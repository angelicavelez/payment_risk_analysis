{
 "cells": [
  {
   "cell_type": "markdown",
   "metadata": {},
   "source": [
    "# Análisis del riesgo de incumplimiento de los prestatarios\n"
   ]
  },
  {
   "cell_type": "markdown",
   "metadata": {},
   "source": [
    "# Tabla de contenidos:\n",
    "1.  [Introducción](#id0)\n",
    "    1. [Objetivos](#ide0.1)\n",
    "2.  [Explora los datos](#id1)\n",
    "3.  [Transformación de datos](#id3)\n",
    "4.  [Trabajar con valores ausentes](#id4)\n",
    "    1.  [Restaurar valores ausentes en `total_income`](#id4.1)\n",
    "    2.  [Restaurar valores en `days_employed`](#id4.2)\n",
    "5.  [Clasificación de datos](#id5)\n",
    "6.  [Comprobación de las hipótesis](#id6)\n",
    "7.  [Conclusión general](#id7)"
   ]
  },
  {
   "cell_type": "markdown",
   "metadata": {},
   "source": [
    "## Introducción<a name=\"id0\"></a>\n",
    "\n",
    "Preparar un informe para la división de préstamos de un banco. Averiguar si el estado civil, el número de hijos, rango salarial, y propósito del préstamo de un cliente tienen un impacto en el incumplimiento de pago de un préstamo. Se busca obtener un informe que se tendrá en cuenta al crear una puntuación de crédito para un cliente potencial. Se utiliza una puntuación de crédito para evaluar la capacidad de un prestatario potencial para pagar su préstamo."
   ]
  },
  {
   "cell_type": "markdown",
   "metadata": {},
   "source": [
    "### Objetivos<a name=\"id0.1\"></a>\n",
    "\n",
    "-  Averiguar si hay alguna conexión entre tener hijos y pagar un préstamo a tiempo.\n",
    "-  Averiguar si existe una conexión entre el estado civil y el pago a tiempo de un préstamo.\n",
    "-  Averiguar si existe una conexión entre el nivel de ingresos y el pago a tiempo de un préstamo.\n",
    "-  Averiguar cómo afectan los diferentes propósitos del préstamo al reembolso a tiempo del préstamo.\n"
   ]
  },
  {
   "cell_type": "markdown",
   "metadata": {},
   "source": [
    "##  Explora los datos<a name=\"id1\"></a>"
   ]
  },
  {
   "cell_type": "code",
   "execution_count": 1,
   "metadata": {
    "ExecuteTime": {
     "end_time": "2022-12-19T17:39:41.490201Z",
     "start_time": "2022-12-19T17:39:40.420633Z"
    }
   },
   "outputs": [],
   "source": [
    "# Cargar todas las librerías\n",
    "\n",
    "import pandas as pd\n",
    "import seaborn as sns"
   ]
  },
  {
   "cell_type": "code",
   "execution_count": 2,
   "metadata": {
    "ExecuteTime": {
     "end_time": "2022-12-19T17:39:41.541085Z",
     "start_time": "2022-12-19T17:39:41.491719Z"
    }
   },
   "outputs": [],
   "source": [
    "# Carga los datos\n",
    "\n",
    "try:\n",
    "    df = pd.read_csv('credit_scoring_eng.csv')\n",
    "except:\n",
    "    df = pd.read_csv('/datasets/credit_scoring_eng.csv')"
   ]
  },
  {
   "cell_type": "markdown",
   "metadata": {},
   "source": [
    "**Descripción de los datos**\n",
    "- `children` - el número de hijos en la familia\n",
    "- `days_employed` - experiencia laboral en días\n",
    "- `dob_years` - la edad del cliente en años\n",
    "- `education` - la educación del cliente\n",
    "- `education_id` - identificador de educación\n",
    "- `family_status` - estado civil\n",
    "- `family_status_id` - identificador de estado civil\n",
    "- `gender` - género del cliente\n",
    "- `income_type` - tipo de empleo\n",
    "- `debt` - ¿había alguna deuda en el pago de un préstamo?\n",
    "- `total_income` - ingreso mensual\n",
    "- `purpose` - el propósito de obtener un préstamo\n"
   ]
  },
  {
   "cell_type": "code",
   "execution_count": 3,
   "metadata": {
    "ExecuteTime": {
     "end_time": "2022-12-19T17:39:41.571137Z",
     "start_time": "2022-12-19T17:39:41.543079Z"
    },
    "scrolled": false
   },
   "outputs": [
    {
     "data": {
      "text/html": [
       "<div>\n",
       "<style scoped>\n",
       "    .dataframe tbody tr th:only-of-type {\n",
       "        vertical-align: middle;\n",
       "    }\n",
       "\n",
       "    .dataframe tbody tr th {\n",
       "        vertical-align: top;\n",
       "    }\n",
       "\n",
       "    .dataframe thead th {\n",
       "        text-align: right;\n",
       "    }\n",
       "</style>\n",
       "<table border=\"1\" class=\"dataframe\">\n",
       "  <thead>\n",
       "    <tr style=\"text-align: right;\">\n",
       "      <th></th>\n",
       "      <th>children</th>\n",
       "      <th>days_employed</th>\n",
       "      <th>dob_years</th>\n",
       "      <th>education</th>\n",
       "      <th>education_id</th>\n",
       "      <th>family_status</th>\n",
       "      <th>family_status_id</th>\n",
       "      <th>gender</th>\n",
       "      <th>income_type</th>\n",
       "      <th>debt</th>\n",
       "      <th>total_income</th>\n",
       "      <th>purpose</th>\n",
       "    </tr>\n",
       "  </thead>\n",
       "  <tbody>\n",
       "    <tr>\n",
       "      <th>0</th>\n",
       "      <td>1</td>\n",
       "      <td>-8437.673028</td>\n",
       "      <td>42</td>\n",
       "      <td>bachelor's degree</td>\n",
       "      <td>0</td>\n",
       "      <td>married</td>\n",
       "      <td>0</td>\n",
       "      <td>F</td>\n",
       "      <td>employee</td>\n",
       "      <td>0</td>\n",
       "      <td>40620.102</td>\n",
       "      <td>purchase of the house</td>\n",
       "    </tr>\n",
       "    <tr>\n",
       "      <th>1</th>\n",
       "      <td>1</td>\n",
       "      <td>-4024.803754</td>\n",
       "      <td>36</td>\n",
       "      <td>secondary education</td>\n",
       "      <td>1</td>\n",
       "      <td>married</td>\n",
       "      <td>0</td>\n",
       "      <td>F</td>\n",
       "      <td>employee</td>\n",
       "      <td>0</td>\n",
       "      <td>17932.802</td>\n",
       "      <td>car purchase</td>\n",
       "    </tr>\n",
       "    <tr>\n",
       "      <th>2</th>\n",
       "      <td>0</td>\n",
       "      <td>-5623.422610</td>\n",
       "      <td>33</td>\n",
       "      <td>Secondary Education</td>\n",
       "      <td>1</td>\n",
       "      <td>married</td>\n",
       "      <td>0</td>\n",
       "      <td>M</td>\n",
       "      <td>employee</td>\n",
       "      <td>0</td>\n",
       "      <td>23341.752</td>\n",
       "      <td>purchase of the house</td>\n",
       "    </tr>\n",
       "    <tr>\n",
       "      <th>3</th>\n",
       "      <td>3</td>\n",
       "      <td>-4124.747207</td>\n",
       "      <td>32</td>\n",
       "      <td>secondary education</td>\n",
       "      <td>1</td>\n",
       "      <td>married</td>\n",
       "      <td>0</td>\n",
       "      <td>M</td>\n",
       "      <td>employee</td>\n",
       "      <td>0</td>\n",
       "      <td>42820.568</td>\n",
       "      <td>supplementary education</td>\n",
       "    </tr>\n",
       "    <tr>\n",
       "      <th>4</th>\n",
       "      <td>0</td>\n",
       "      <td>340266.072047</td>\n",
       "      <td>53</td>\n",
       "      <td>secondary education</td>\n",
       "      <td>1</td>\n",
       "      <td>civil partnership</td>\n",
       "      <td>1</td>\n",
       "      <td>F</td>\n",
       "      <td>retiree</td>\n",
       "      <td>0</td>\n",
       "      <td>25378.572</td>\n",
       "      <td>to have a wedding</td>\n",
       "    </tr>\n",
       "    <tr>\n",
       "      <th>5</th>\n",
       "      <td>0</td>\n",
       "      <td>-926.185831</td>\n",
       "      <td>27</td>\n",
       "      <td>bachelor's degree</td>\n",
       "      <td>0</td>\n",
       "      <td>civil partnership</td>\n",
       "      <td>1</td>\n",
       "      <td>M</td>\n",
       "      <td>business</td>\n",
       "      <td>0</td>\n",
       "      <td>40922.170</td>\n",
       "      <td>purchase of the house</td>\n",
       "    </tr>\n",
       "    <tr>\n",
       "      <th>6</th>\n",
       "      <td>0</td>\n",
       "      <td>-2879.202052</td>\n",
       "      <td>43</td>\n",
       "      <td>bachelor's degree</td>\n",
       "      <td>0</td>\n",
       "      <td>married</td>\n",
       "      <td>0</td>\n",
       "      <td>F</td>\n",
       "      <td>business</td>\n",
       "      <td>0</td>\n",
       "      <td>38484.156</td>\n",
       "      <td>housing transactions</td>\n",
       "    </tr>\n",
       "    <tr>\n",
       "      <th>7</th>\n",
       "      <td>0</td>\n",
       "      <td>-152.779569</td>\n",
       "      <td>50</td>\n",
       "      <td>SECONDARY EDUCATION</td>\n",
       "      <td>1</td>\n",
       "      <td>married</td>\n",
       "      <td>0</td>\n",
       "      <td>M</td>\n",
       "      <td>employee</td>\n",
       "      <td>0</td>\n",
       "      <td>21731.829</td>\n",
       "      <td>education</td>\n",
       "    </tr>\n",
       "    <tr>\n",
       "      <th>8</th>\n",
       "      <td>2</td>\n",
       "      <td>-6929.865299</td>\n",
       "      <td>35</td>\n",
       "      <td>BACHELOR'S DEGREE</td>\n",
       "      <td>0</td>\n",
       "      <td>civil partnership</td>\n",
       "      <td>1</td>\n",
       "      <td>F</td>\n",
       "      <td>employee</td>\n",
       "      <td>0</td>\n",
       "      <td>15337.093</td>\n",
       "      <td>having a wedding</td>\n",
       "    </tr>\n",
       "    <tr>\n",
       "      <th>9</th>\n",
       "      <td>0</td>\n",
       "      <td>-2188.756445</td>\n",
       "      <td>41</td>\n",
       "      <td>secondary education</td>\n",
       "      <td>1</td>\n",
       "      <td>married</td>\n",
       "      <td>0</td>\n",
       "      <td>M</td>\n",
       "      <td>employee</td>\n",
       "      <td>0</td>\n",
       "      <td>23108.150</td>\n",
       "      <td>purchase of the house for my family</td>\n",
       "    </tr>\n",
       "    <tr>\n",
       "      <th>10</th>\n",
       "      <td>2</td>\n",
       "      <td>-4171.483647</td>\n",
       "      <td>36</td>\n",
       "      <td>bachelor's degree</td>\n",
       "      <td>0</td>\n",
       "      <td>married</td>\n",
       "      <td>0</td>\n",
       "      <td>M</td>\n",
       "      <td>business</td>\n",
       "      <td>0</td>\n",
       "      <td>18230.959</td>\n",
       "      <td>buy real estate</td>\n",
       "    </tr>\n",
       "    <tr>\n",
       "      <th>11</th>\n",
       "      <td>0</td>\n",
       "      <td>-792.701887</td>\n",
       "      <td>40</td>\n",
       "      <td>secondary education</td>\n",
       "      <td>1</td>\n",
       "      <td>married</td>\n",
       "      <td>0</td>\n",
       "      <td>F</td>\n",
       "      <td>employee</td>\n",
       "      <td>0</td>\n",
       "      <td>12331.077</td>\n",
       "      <td>buy commercial real estate</td>\n",
       "    </tr>\n",
       "    <tr>\n",
       "      <th>12</th>\n",
       "      <td>0</td>\n",
       "      <td>NaN</td>\n",
       "      <td>65</td>\n",
       "      <td>secondary education</td>\n",
       "      <td>1</td>\n",
       "      <td>civil partnership</td>\n",
       "      <td>1</td>\n",
       "      <td>M</td>\n",
       "      <td>retiree</td>\n",
       "      <td>0</td>\n",
       "      <td>NaN</td>\n",
       "      <td>to have a wedding</td>\n",
       "    </tr>\n",
       "    <tr>\n",
       "      <th>13</th>\n",
       "      <td>0</td>\n",
       "      <td>-1846.641941</td>\n",
       "      <td>54</td>\n",
       "      <td>some college</td>\n",
       "      <td>2</td>\n",
       "      <td>married</td>\n",
       "      <td>0</td>\n",
       "      <td>F</td>\n",
       "      <td>employee</td>\n",
       "      <td>0</td>\n",
       "      <td>20873.317</td>\n",
       "      <td>car purchase</td>\n",
       "    </tr>\n",
       "    <tr>\n",
       "      <th>14</th>\n",
       "      <td>0</td>\n",
       "      <td>-1844.956182</td>\n",
       "      <td>56</td>\n",
       "      <td>bachelor's degree</td>\n",
       "      <td>0</td>\n",
       "      <td>civil partnership</td>\n",
       "      <td>1</td>\n",
       "      <td>F</td>\n",
       "      <td>business</td>\n",
       "      <td>1</td>\n",
       "      <td>26420.466</td>\n",
       "      <td>buy residential real estate</td>\n",
       "    </tr>\n",
       "    <tr>\n",
       "      <th>15</th>\n",
       "      <td>1</td>\n",
       "      <td>-972.364419</td>\n",
       "      <td>26</td>\n",
       "      <td>secondary education</td>\n",
       "      <td>1</td>\n",
       "      <td>married</td>\n",
       "      <td>0</td>\n",
       "      <td>F</td>\n",
       "      <td>employee</td>\n",
       "      <td>0</td>\n",
       "      <td>18691.345</td>\n",
       "      <td>construction of own property</td>\n",
       "    </tr>\n",
       "    <tr>\n",
       "      <th>16</th>\n",
       "      <td>0</td>\n",
       "      <td>-1719.934226</td>\n",
       "      <td>35</td>\n",
       "      <td>secondary education</td>\n",
       "      <td>1</td>\n",
       "      <td>married</td>\n",
       "      <td>0</td>\n",
       "      <td>F</td>\n",
       "      <td>employee</td>\n",
       "      <td>0</td>\n",
       "      <td>46272.433</td>\n",
       "      <td>property</td>\n",
       "    </tr>\n",
       "    <tr>\n",
       "      <th>17</th>\n",
       "      <td>0</td>\n",
       "      <td>-2369.999720</td>\n",
       "      <td>33</td>\n",
       "      <td>bachelor's degree</td>\n",
       "      <td>0</td>\n",
       "      <td>civil partnership</td>\n",
       "      <td>1</td>\n",
       "      <td>M</td>\n",
       "      <td>employee</td>\n",
       "      <td>0</td>\n",
       "      <td>14465.694</td>\n",
       "      <td>building a property</td>\n",
       "    </tr>\n",
       "    <tr>\n",
       "      <th>18</th>\n",
       "      <td>0</td>\n",
       "      <td>400281.136913</td>\n",
       "      <td>53</td>\n",
       "      <td>secondary education</td>\n",
       "      <td>1</td>\n",
       "      <td>widow / widower</td>\n",
       "      <td>2</td>\n",
       "      <td>F</td>\n",
       "      <td>retiree</td>\n",
       "      <td>0</td>\n",
       "      <td>9091.804</td>\n",
       "      <td>buying a second-hand car</td>\n",
       "    </tr>\n",
       "    <tr>\n",
       "      <th>19</th>\n",
       "      <td>0</td>\n",
       "      <td>-10038.818549</td>\n",
       "      <td>48</td>\n",
       "      <td>SECONDARY EDUCATION</td>\n",
       "      <td>1</td>\n",
       "      <td>divorced</td>\n",
       "      <td>3</td>\n",
       "      <td>F</td>\n",
       "      <td>employee</td>\n",
       "      <td>0</td>\n",
       "      <td>38852.977</td>\n",
       "      <td>buying my own car</td>\n",
       "    </tr>\n",
       "  </tbody>\n",
       "</table>\n",
       "</div>"
      ],
      "text/plain": [
       "    children  days_employed  dob_years            education  education_id  \\\n",
       "0          1   -8437.673028         42    bachelor's degree             0   \n",
       "1          1   -4024.803754         36  secondary education             1   \n",
       "2          0   -5623.422610         33  Secondary Education             1   \n",
       "3          3   -4124.747207         32  secondary education             1   \n",
       "4          0  340266.072047         53  secondary education             1   \n",
       "5          0    -926.185831         27    bachelor's degree             0   \n",
       "6          0   -2879.202052         43    bachelor's degree             0   \n",
       "7          0    -152.779569         50  SECONDARY EDUCATION             1   \n",
       "8          2   -6929.865299         35    BACHELOR'S DEGREE             0   \n",
       "9          0   -2188.756445         41  secondary education             1   \n",
       "10         2   -4171.483647         36    bachelor's degree             0   \n",
       "11         0    -792.701887         40  secondary education             1   \n",
       "12         0            NaN         65  secondary education             1   \n",
       "13         0   -1846.641941         54         some college             2   \n",
       "14         0   -1844.956182         56    bachelor's degree             0   \n",
       "15         1    -972.364419         26  secondary education             1   \n",
       "16         0   -1719.934226         35  secondary education             1   \n",
       "17         0   -2369.999720         33    bachelor's degree             0   \n",
       "18         0  400281.136913         53  secondary education             1   \n",
       "19         0  -10038.818549         48  SECONDARY EDUCATION             1   \n",
       "\n",
       "        family_status  family_status_id gender income_type  debt  \\\n",
       "0             married                 0      F    employee     0   \n",
       "1             married                 0      F    employee     0   \n",
       "2             married                 0      M    employee     0   \n",
       "3             married                 0      M    employee     0   \n",
       "4   civil partnership                 1      F     retiree     0   \n",
       "5   civil partnership                 1      M    business     0   \n",
       "6             married                 0      F    business     0   \n",
       "7             married                 0      M    employee     0   \n",
       "8   civil partnership                 1      F    employee     0   \n",
       "9             married                 0      M    employee     0   \n",
       "10            married                 0      M    business     0   \n",
       "11            married                 0      F    employee     0   \n",
       "12  civil partnership                 1      M     retiree     0   \n",
       "13            married                 0      F    employee     0   \n",
       "14  civil partnership                 1      F    business     1   \n",
       "15            married                 0      F    employee     0   \n",
       "16            married                 0      F    employee     0   \n",
       "17  civil partnership                 1      M    employee     0   \n",
       "18    widow / widower                 2      F     retiree     0   \n",
       "19           divorced                 3      F    employee     0   \n",
       "\n",
       "    total_income                              purpose  \n",
       "0      40620.102                purchase of the house  \n",
       "1      17932.802                         car purchase  \n",
       "2      23341.752                purchase of the house  \n",
       "3      42820.568              supplementary education  \n",
       "4      25378.572                    to have a wedding  \n",
       "5      40922.170                purchase of the house  \n",
       "6      38484.156                 housing transactions  \n",
       "7      21731.829                            education  \n",
       "8      15337.093                     having a wedding  \n",
       "9      23108.150  purchase of the house for my family  \n",
       "10     18230.959                      buy real estate  \n",
       "11     12331.077           buy commercial real estate  \n",
       "12           NaN                    to have a wedding  \n",
       "13     20873.317                         car purchase  \n",
       "14     26420.466          buy residential real estate  \n",
       "15     18691.345         construction of own property  \n",
       "16     46272.433                             property  \n",
       "17     14465.694                  building a property  \n",
       "18      9091.804             buying a second-hand car  \n",
       "19     38852.977                    buying my own car  "
      ]
     },
     "execution_count": 3,
     "metadata": {},
     "output_type": "execute_result"
    }
   ],
   "source": [
    "# vamos a mostrar las 20 primeras filas\n",
    "df.head(20)"
   ]
  },
  {
   "cell_type": "markdown",
   "metadata": {},
   "source": [
    "Se puede observar a primera vista que existen datos ausentes en varias columnas, valores negativos, por ejemplo en `days_employed`, valores duplicados, por ejemplo en la columna `education` datos como `secondary education` y `Secondary Education`.\n",
    "\n",
    "\n",
    "Se revisarán estas observaciones y si requerirán cambios adicionales.\n"
   ]
  },
  {
   "cell_type": "code",
   "execution_count": 4,
   "metadata": {
    "ExecuteTime": {
     "end_time": "2022-12-19T17:39:41.611501Z",
     "start_time": "2022-12-19T17:39:41.573826Z"
    },
    "scrolled": false
   },
   "outputs": [
    {
     "name": "stdout",
     "output_type": "stream",
     "text": [
      "<class 'pandas.core.frame.DataFrame'>\n",
      "RangeIndex: 21525 entries, 0 to 21524\n",
      "Data columns (total 12 columns):\n",
      " #   Column            Non-Null Count  Dtype  \n",
      "---  ------            --------------  -----  \n",
      " 0   children          21525 non-null  int64  \n",
      " 1   days_employed     19351 non-null  float64\n",
      " 2   dob_years         21525 non-null  int64  \n",
      " 3   education         21525 non-null  object \n",
      " 4   education_id      21525 non-null  int64  \n",
      " 5   family_status     21525 non-null  object \n",
      " 6   family_status_id  21525 non-null  int64  \n",
      " 7   gender            21525 non-null  object \n",
      " 8   income_type       21525 non-null  object \n",
      " 9   debt              21525 non-null  int64  \n",
      " 10  total_income      19351 non-null  float64\n",
      " 11  purpose           21525 non-null  object \n",
      "dtypes: float64(2), int64(5), object(5)\n",
      "memory usage: 2.0+ MB\n"
     ]
    },
    {
     "data": {
      "text/plain": [
       "children               0\n",
       "days_employed       2174\n",
       "dob_years              0\n",
       "education              0\n",
       "education_id           0\n",
       "family_status          0\n",
       "family_status_id       0\n",
       "gender                 0\n",
       "income_type            0\n",
       "debt                   0\n",
       "total_income        2174\n",
       "purpose                0\n",
       "dtype: int64"
      ]
     },
     "execution_count": 4,
     "metadata": {},
     "output_type": "execute_result"
    }
   ],
   "source": [
    "df.info()\n",
    "df.isna().sum()"
   ]
  },
  {
   "cell_type": "markdown",
   "metadata": {},
   "source": [
    "Existen `2174` valores ausentes en `days_employed` y también `2174` valores ausentes en `total_income`."
   ]
  },
  {
   "cell_type": "code",
   "execution_count": 5,
   "metadata": {
    "ExecuteTime": {
     "end_time": "2022-12-19T17:39:41.637820Z",
     "start_time": "2022-12-19T17:39:41.611501Z"
    }
   },
   "outputs": [
    {
     "data": {
      "text/html": [
       "<div>\n",
       "<style scoped>\n",
       "    .dataframe tbody tr th:only-of-type {\n",
       "        vertical-align: middle;\n",
       "    }\n",
       "\n",
       "    .dataframe tbody tr th {\n",
       "        vertical-align: top;\n",
       "    }\n",
       "\n",
       "    .dataframe thead th {\n",
       "        text-align: right;\n",
       "    }\n",
       "</style>\n",
       "<table border=\"1\" class=\"dataframe\">\n",
       "  <thead>\n",
       "    <tr style=\"text-align: right;\">\n",
       "      <th></th>\n",
       "      <th>children</th>\n",
       "      <th>days_employed</th>\n",
       "      <th>dob_years</th>\n",
       "      <th>education</th>\n",
       "      <th>education_id</th>\n",
       "      <th>family_status</th>\n",
       "      <th>family_status_id</th>\n",
       "      <th>gender</th>\n",
       "      <th>income_type</th>\n",
       "      <th>debt</th>\n",
       "      <th>total_income</th>\n",
       "      <th>purpose</th>\n",
       "    </tr>\n",
       "  </thead>\n",
       "  <tbody>\n",
       "    <tr>\n",
       "      <th>12</th>\n",
       "      <td>0</td>\n",
       "      <td>NaN</td>\n",
       "      <td>65</td>\n",
       "      <td>secondary education</td>\n",
       "      <td>1</td>\n",
       "      <td>civil partnership</td>\n",
       "      <td>1</td>\n",
       "      <td>M</td>\n",
       "      <td>retiree</td>\n",
       "      <td>0</td>\n",
       "      <td>NaN</td>\n",
       "      <td>to have a wedding</td>\n",
       "    </tr>\n",
       "    <tr>\n",
       "      <th>26</th>\n",
       "      <td>0</td>\n",
       "      <td>NaN</td>\n",
       "      <td>41</td>\n",
       "      <td>secondary education</td>\n",
       "      <td>1</td>\n",
       "      <td>married</td>\n",
       "      <td>0</td>\n",
       "      <td>M</td>\n",
       "      <td>civil servant</td>\n",
       "      <td>0</td>\n",
       "      <td>NaN</td>\n",
       "      <td>education</td>\n",
       "    </tr>\n",
       "    <tr>\n",
       "      <th>29</th>\n",
       "      <td>0</td>\n",
       "      <td>NaN</td>\n",
       "      <td>63</td>\n",
       "      <td>secondary education</td>\n",
       "      <td>1</td>\n",
       "      <td>unmarried</td>\n",
       "      <td>4</td>\n",
       "      <td>F</td>\n",
       "      <td>retiree</td>\n",
       "      <td>0</td>\n",
       "      <td>NaN</td>\n",
       "      <td>building a real estate</td>\n",
       "    </tr>\n",
       "    <tr>\n",
       "      <th>41</th>\n",
       "      <td>0</td>\n",
       "      <td>NaN</td>\n",
       "      <td>50</td>\n",
       "      <td>secondary education</td>\n",
       "      <td>1</td>\n",
       "      <td>married</td>\n",
       "      <td>0</td>\n",
       "      <td>F</td>\n",
       "      <td>civil servant</td>\n",
       "      <td>0</td>\n",
       "      <td>NaN</td>\n",
       "      <td>second-hand car purchase</td>\n",
       "    </tr>\n",
       "    <tr>\n",
       "      <th>55</th>\n",
       "      <td>0</td>\n",
       "      <td>NaN</td>\n",
       "      <td>54</td>\n",
       "      <td>secondary education</td>\n",
       "      <td>1</td>\n",
       "      <td>civil partnership</td>\n",
       "      <td>1</td>\n",
       "      <td>F</td>\n",
       "      <td>retiree</td>\n",
       "      <td>1</td>\n",
       "      <td>NaN</td>\n",
       "      <td>to have a wedding</td>\n",
       "    </tr>\n",
       "    <tr>\n",
       "      <th>...</th>\n",
       "      <td>...</td>\n",
       "      <td>...</td>\n",
       "      <td>...</td>\n",
       "      <td>...</td>\n",
       "      <td>...</td>\n",
       "      <td>...</td>\n",
       "      <td>...</td>\n",
       "      <td>...</td>\n",
       "      <td>...</td>\n",
       "      <td>...</td>\n",
       "      <td>...</td>\n",
       "      <td>...</td>\n",
       "    </tr>\n",
       "    <tr>\n",
       "      <th>21489</th>\n",
       "      <td>2</td>\n",
       "      <td>NaN</td>\n",
       "      <td>47</td>\n",
       "      <td>Secondary Education</td>\n",
       "      <td>1</td>\n",
       "      <td>married</td>\n",
       "      <td>0</td>\n",
       "      <td>M</td>\n",
       "      <td>business</td>\n",
       "      <td>0</td>\n",
       "      <td>NaN</td>\n",
       "      <td>purchase of a car</td>\n",
       "    </tr>\n",
       "    <tr>\n",
       "      <th>21495</th>\n",
       "      <td>1</td>\n",
       "      <td>NaN</td>\n",
       "      <td>50</td>\n",
       "      <td>secondary education</td>\n",
       "      <td>1</td>\n",
       "      <td>civil partnership</td>\n",
       "      <td>1</td>\n",
       "      <td>F</td>\n",
       "      <td>employee</td>\n",
       "      <td>0</td>\n",
       "      <td>NaN</td>\n",
       "      <td>wedding ceremony</td>\n",
       "    </tr>\n",
       "    <tr>\n",
       "      <th>21497</th>\n",
       "      <td>0</td>\n",
       "      <td>NaN</td>\n",
       "      <td>48</td>\n",
       "      <td>BACHELOR'S DEGREE</td>\n",
       "      <td>0</td>\n",
       "      <td>married</td>\n",
       "      <td>0</td>\n",
       "      <td>F</td>\n",
       "      <td>business</td>\n",
       "      <td>0</td>\n",
       "      <td>NaN</td>\n",
       "      <td>building a property</td>\n",
       "    </tr>\n",
       "    <tr>\n",
       "      <th>21502</th>\n",
       "      <td>1</td>\n",
       "      <td>NaN</td>\n",
       "      <td>42</td>\n",
       "      <td>secondary education</td>\n",
       "      <td>1</td>\n",
       "      <td>married</td>\n",
       "      <td>0</td>\n",
       "      <td>F</td>\n",
       "      <td>employee</td>\n",
       "      <td>0</td>\n",
       "      <td>NaN</td>\n",
       "      <td>building a real estate</td>\n",
       "    </tr>\n",
       "    <tr>\n",
       "      <th>21510</th>\n",
       "      <td>2</td>\n",
       "      <td>NaN</td>\n",
       "      <td>28</td>\n",
       "      <td>secondary education</td>\n",
       "      <td>1</td>\n",
       "      <td>married</td>\n",
       "      <td>0</td>\n",
       "      <td>F</td>\n",
       "      <td>employee</td>\n",
       "      <td>0</td>\n",
       "      <td>NaN</td>\n",
       "      <td>car purchase</td>\n",
       "    </tr>\n",
       "  </tbody>\n",
       "</table>\n",
       "<p>2174 rows × 12 columns</p>\n",
       "</div>"
      ],
      "text/plain": [
       "       children  days_employed  dob_years            education  education_id  \\\n",
       "12            0            NaN         65  secondary education             1   \n",
       "26            0            NaN         41  secondary education             1   \n",
       "29            0            NaN         63  secondary education             1   \n",
       "41            0            NaN         50  secondary education             1   \n",
       "55            0            NaN         54  secondary education             1   \n",
       "...         ...            ...        ...                  ...           ...   \n",
       "21489         2            NaN         47  Secondary Education             1   \n",
       "21495         1            NaN         50  secondary education             1   \n",
       "21497         0            NaN         48    BACHELOR'S DEGREE             0   \n",
       "21502         1            NaN         42  secondary education             1   \n",
       "21510         2            NaN         28  secondary education             1   \n",
       "\n",
       "           family_status  family_status_id gender    income_type  debt  \\\n",
       "12     civil partnership                 1      M        retiree     0   \n",
       "26               married                 0      M  civil servant     0   \n",
       "29             unmarried                 4      F        retiree     0   \n",
       "41               married                 0      F  civil servant     0   \n",
       "55     civil partnership                 1      F        retiree     1   \n",
       "...                  ...               ...    ...            ...   ...   \n",
       "21489            married                 0      M       business     0   \n",
       "21495  civil partnership                 1      F       employee     0   \n",
       "21497            married                 0      F       business     0   \n",
       "21502            married                 0      F       employee     0   \n",
       "21510            married                 0      F       employee     0   \n",
       "\n",
       "       total_income                   purpose  \n",
       "12              NaN         to have a wedding  \n",
       "26              NaN                 education  \n",
       "29              NaN    building a real estate  \n",
       "41              NaN  second-hand car purchase  \n",
       "55              NaN         to have a wedding  \n",
       "...             ...                       ...  \n",
       "21489           NaN         purchase of a car  \n",
       "21495           NaN          wedding ceremony  \n",
       "21497           NaN       building a property  \n",
       "21502           NaN    building a real estate  \n",
       "21510           NaN              car purchase  \n",
       "\n",
       "[2174 rows x 12 columns]"
      ]
     },
     "execution_count": 5,
     "metadata": {},
     "output_type": "execute_result"
    }
   ],
   "source": [
    "# Veamos la tabla filtrada con valores ausentes de la primera columna donde faltan datos\n",
    "\n",
    "df[df['days_employed'].isna()]"
   ]
  },
  {
   "cell_type": "markdown",
   "metadata": {},
   "source": [
    "Se puede notar que al buscar datos ausentes en `days_employed` también hay valores ausentes en `total_income` a la vez.\n",
    "\n",
    "Revisaremos a continuación si todos los datos ausentes coinciden en ambas columnas a la vez."
   ]
  },
  {
   "cell_type": "code",
   "execution_count": 6,
   "metadata": {
    "ExecuteTime": {
     "end_time": "2022-12-19T17:39:41.653778Z",
     "start_time": "2022-12-19T17:39:41.639815Z"
    }
   },
   "outputs": [
    {
     "data": {
      "text/plain": [
       "2174"
      ]
     },
     "execution_count": 6,
     "metadata": {},
     "output_type": "execute_result"
    }
   ],
   "source": [
    "# Apliquemos múltiples condiciones para filtrar datos y veamos el número de filas en la tabla filtrada.\n",
    "filter_nan = df[(df['days_employed'].isna()) & (df['total_income'].isna())]\n",
    "\n",
    "# Comprobamos el número de filas que tiene la tabla filtrada\n",
    "len(filter_nan)"
   ]
  },
  {
   "cell_type": "code",
   "execution_count": 7,
   "metadata": {
    "ExecuteTime": {
     "end_time": "2022-12-19T17:39:41.669067Z",
     "start_time": "2022-12-19T17:39:41.654776Z"
    }
   },
   "outputs": [
    {
     "name": "stdout",
     "output_type": "stream",
     "text": [
      "Valores ausentes: 10%\n"
     ]
    }
   ],
   "source": [
    "percent_nan = filter_nan.shape[0]/df.shape[0]\n",
    "print(f'Valores ausentes: {percent_nan:.0%}')"
   ]
  },
  {
   "cell_type": "markdown",
   "metadata": {},
   "source": [
    "**Conclusión intermedia**\n",
    "\n",
    "- El número de filas `2174` en la tabla filtrada de NaN coincide con el número de valores ausentes por columna. Entonces, se confirma que los `NaN` en la columnas  `days_employed` y `total_income` se presentan al mismo tiempo, es decir se encuentran totalmente relacionados.\n",
    "- Esto quiere decir, que las personas que no tienen registro en experiencia laboral, tampoco tienen registro de que perciben un sueldo, en ambos casos el dato refleja `NaN`.\n",
    "- Los registros con valores ausentes representa el `10%` de todos los registros.\n",
    "- Se revisará más a fondo si los valores ausentes depende de otras características de los clientes."
   ]
  },
  {
   "cell_type": "code",
   "execution_count": 8,
   "metadata": {
    "ExecuteTime": {
     "end_time": "2022-12-19T17:39:41.684829Z",
     "start_time": "2022-12-19T17:39:41.669067Z"
    }
   },
   "outputs": [
    {
     "name": "stdout",
     "output_type": "stream",
     "text": [
      "Desempleados entre registros con datos ausentes: 0\n"
     ]
    }
   ],
   "source": [
    "# Vamos a investigar si los clientes con datos ausentes son \"desempleados\".\n",
    "\n",
    "unemployed_nan = (filter_nan['income_type'] == 'unemployed').sum()\n",
    "print('Desempleados entre registros con datos ausentes:', unemployed_nan)"
   ]
  },
  {
   "cell_type": "markdown",
   "metadata": {},
   "source": [
    "**Posibles razones por las que hay valores ausentes en los datos**\n",
    "\n",
    "\n",
    "`Referente al tipo de empleo:` Se podría pensar que de no existir datos de días laborales y de ingresos puede deberse a que el cliente está desempleado. Pero como podemos comprobar  el total de desempleados entre registros con datos ausentes es  0. Quedando descartada esta suposición.\n",
    "\n",
    "Revisemos más, acerca del tipo de empleo de los clientes y su distribución en los datos."
   ]
  },
  {
   "cell_type": "code",
   "execution_count": 9,
   "metadata": {
    "ExecuteTime": {
     "end_time": "2022-12-19T17:39:41.700296Z",
     "start_time": "2022-12-19T17:39:41.685827Z"
    }
   },
   "outputs": [
    {
     "name": "stdout",
     "output_type": "stream",
     "text": [
      "\n",
      "Totales por tipos de empleo en tabla filtrada NaN:\n",
      "employee         1105\n",
      "business          508\n",
      "retiree           413\n",
      "civil servant     147\n",
      "entrepreneur        1\n",
      "Name: income_type, dtype: int64\n"
     ]
    }
   ],
   "source": [
    "print('\\nTotales por tipos de empleo en tabla filtrada NaN:')\n",
    "print(filter_nan['income_type'].value_counts())"
   ]
  },
  {
   "cell_type": "code",
   "execution_count": 10,
   "metadata": {
    "ExecuteTime": {
     "end_time": "2022-12-19T17:39:41.715330Z",
     "start_time": "2022-12-19T17:39:41.703288Z"
    }
   },
   "outputs": [
    {
     "name": "stdout",
     "output_type": "stream",
     "text": [
      "Totales por tipos de empleo en todos los datos:\n",
      "employee                       11119\n",
      "business                        5085\n",
      "retiree                         3856\n",
      "civil servant                   1459\n",
      "unemployed                         2\n",
      "entrepreneur                       2\n",
      "student                            1\n",
      "paternity / maternity leave        1\n",
      "Name: income_type, dtype: int64\n"
     ]
    }
   ],
   "source": [
    "print('Totales por tipos de empleo en todos los datos:')\n",
    "print(df['income_type'].value_counts())"
   ]
  },
  {
   "cell_type": "code",
   "execution_count": 11,
   "metadata": {
    "ExecuteTime": {
     "end_time": "2022-12-19T17:39:41.731424Z",
     "start_time": "2022-12-19T17:39:41.715330Z"
    }
   },
   "outputs": [
    {
     "data": {
      "text/plain": [
       "employee    0.099379\n",
       "business    0.099902\n",
       "retiree     0.107106\n",
       "Name: income_type, dtype: float64"
      ]
     },
     "execution_count": 11,
     "metadata": {},
     "output_type": "execute_result"
    }
   ],
   "source": [
    "# Revisamos % de income_type de la tabla filtrada NaN respecto al conjunto de datos entero\n",
    "\n",
    "income_type_conversion = filter_nan['income_type'].value_counts().head(3) / df['income_type'].value_counts().head(3)\n",
    "income_type_conversion"
   ]
  },
  {
   "cell_type": "markdown",
   "metadata": {},
   "source": [
    "**Conclusión intermedia**\n",
    "\n",
    "`Referente al tipo de empleo:` se puede notar que el comportamiento no cambia dentro de los datos totales y dentro de los datos ausentes. En otras palabras, se observa que en los NaN el `10%` de cada categoría de tipo de empleo son similares a los de los datos completos.\n",
    "\n",
    "A continuación revisaremos el comportamiento de los datos con educación."
   ]
  },
  {
   "cell_type": "code",
   "execution_count": 12,
   "metadata": {
    "ExecuteTime": {
     "end_time": "2022-12-19T17:39:41.747382Z",
     "start_time": "2022-12-19T17:39:41.733420Z"
    }
   },
   "outputs": [
    {
     "name": "stdout",
     "output_type": "stream",
     "text": [
      "\n",
      "Nivel de educación:\n",
      "\n",
      "secondary education    1540\n",
      "bachelor's degree       544\n",
      "some college             69\n",
      "Name: education, dtype: int64\n"
     ]
    }
   ],
   "source": [
    "print('\\nNivel de educación:\\n')\n",
    "print(filter_nan['education'].str.lower().value_counts().head(3))"
   ]
  },
  {
   "cell_type": "code",
   "execution_count": 13,
   "metadata": {
    "ExecuteTime": {
     "end_time": "2022-12-19T17:39:41.763340Z",
     "start_time": "2022-12-19T17:39:41.748380Z"
    }
   },
   "outputs": [
    {
     "name": "stdout",
     "output_type": "stream",
     "text": [
      "secondary education    15233\n",
      "bachelor's degree       5260\n",
      "some college             744\n",
      "Name: education, dtype: int64\n"
     ]
    }
   ],
   "source": [
    "print(df['education'].str.lower().value_counts().head(3))"
   ]
  },
  {
   "cell_type": "code",
   "execution_count": 14,
   "metadata": {
    "ExecuteTime": {
     "end_time": "2022-12-19T17:39:41.778263Z",
     "start_time": "2022-12-19T17:39:41.764338Z"
    }
   },
   "outputs": [
    {
     "name": "stdout",
     "output_type": "stream",
     "text": [
      "secondary education    0.101096\n",
      "bachelor's degree      0.103422\n",
      "some college           0.092742\n",
      "Name: education, dtype: float64\n"
     ]
    }
   ],
   "source": [
    "# Revisaremos % del nivel de educación de la tabla filtrada NaN respecto al conjunto de datos entero\n",
    "\n",
    "education_conversion = filter_nan['education'].str.lower().value_counts().head(\n",
    "    3) / df['education'].str.lower().value_counts().head(3)\n",
    "print(education_conversion)"
   ]
  },
  {
   "cell_type": "markdown",
   "metadata": {},
   "source": [
    "**Conclusión intermedia**\n",
    "\n",
    "`Referente a la educación:` Se descarta que exista un patrón relacionado al nivel de educación con los valores ausentes. Se puede notar el mismo comportamiento en los datos totales y en los datos con valores ausentes.\n",
    "\n",
    "\n",
    "Continuemos revisando número de hijos, estado civil, sexo...\n"
   ]
  },
  {
   "cell_type": "code",
   "execution_count": 15,
   "metadata": {
    "ExecuteTime": {
     "end_time": "2022-12-19T17:39:41.793678Z",
     "start_time": "2022-12-19T17:39:41.778263Z"
    }
   },
   "outputs": [
    {
     "name": "stdout",
     "output_type": "stream",
     "text": [
      "Tasas de conversión de datos ausentes en datos totales\n",
      "\n",
      "Número de hijos:\n",
      "0    0.101703\n",
      "1    0.098589\n",
      "2    0.099270\n",
      "Name: children, dtype: float64\n",
      "\n",
      "Estado civil:\n",
      "married              0.099919\n",
      "civil partnership    0.105818\n",
      "unmarried            0.102382\n",
      "Name: family_status, dtype: float64\n",
      "\n",
      "Sexo:\n",
      "F    0.104243\n",
      "M    0.094676\n",
      "Name: gender, dtype: float64\n",
      "\n",
      "Ha incumplido alguna vez un préstamo?:\n",
      "0    0.101294\n",
      "1    0.097645\n",
      "Name: debt, dtype: float64\n"
     ]
    }
   ],
   "source": [
    "print('Tasas de conversión de datos ausentes en datos totales')\n",
    "\n",
    "children_conversion = filter_nan['children'].value_counts().head(\n",
    "    3) / df['children'].value_counts().head(3)\n",
    "print('\\nNúmero de hijos:')\n",
    "print(children_conversion)\n",
    "\n",
    "family_conversion = filter_nan['family_status'].value_counts().head(\n",
    "    3) / df['family_status'].value_counts().head(3)\n",
    "print('\\nEstado civil:')\n",
    "print(family_conversion)\n",
    "\n",
    "gender_conversion = filter_nan['gender'].value_counts().head(\n",
    "    2) / df['gender'].value_counts().head(2)\n",
    "print('\\nSexo:')\n",
    "print(gender_conversion)\n",
    "\n",
    "debt_conversion = filter_nan['debt'].value_counts() / df['debt'].value_counts()\n",
    "print('\\nHa incumplido alguna vez un préstamo?:')\n",
    "print(debt_conversion)"
   ]
  },
  {
   "cell_type": "markdown",
   "metadata": {},
   "source": [
    "**Conclusiones**\n",
    "\n",
    "Al igual que las comprobaciones pasadas, se puede observar que el comportamiento de los clientes respecto al número de hijos, estado civil, etc., sigue siendo igual dentro de todos los datos como solo en los datos con valores ausentes.\n",
    "\n",
    "\n",
    "Por lo tanto, no se encuentra un patrón que indique que existe alguna relación entre otra característica de los clientes con los datos ausentes encontrados en días laborales y total de ingresos. \n",
    "\n",
    "\n",
    "Los valores ausentes de días laborales se relacionan directamente con los valores ausentes en el total de ingresos como se mencionó inicialmente.\n",
    "\n",
    "A continuación se abordará diferentes tipos de problemas: duplicados, diferentes registros, artefactos incorrectos y valores ausentes."
   ]
  },
  {
   "cell_type": "markdown",
   "metadata": {},
   "source": [
    "## Transformación de datos<a name=\"id3\"></a>"
   ]
  },
  {
   "cell_type": "code",
   "execution_count": 16,
   "metadata": {
    "ExecuteTime": {
     "end_time": "2022-12-19T17:39:41.809636Z",
     "start_time": "2022-12-19T17:39:41.794677Z"
    }
   },
   "outputs": [
    {
     "data": {
      "text/plain": [
       "secondary education    13750\n",
       "bachelor's degree       4718\n",
       "SECONDARY EDUCATION      772\n",
       "Secondary Education      711\n",
       "some college             668\n",
       "BACHELOR'S DEGREE        274\n",
       "Bachelor's Degree        268\n",
       "primary education        250\n",
       "Some College              47\n",
       "SOME COLLEGE              29\n",
       "PRIMARY EDUCATION         17\n",
       "Primary Education         15\n",
       "graduate degree            4\n",
       "Graduate Degree            1\n",
       "GRADUATE DEGREE            1\n",
       "Name: education, dtype: int64"
      ]
     },
     "execution_count": 16,
     "metadata": {},
     "output_type": "execute_result"
    }
   ],
   "source": [
    "df['education'].value_counts()"
   ]
  },
  {
   "cell_type": "code",
   "execution_count": 17,
   "metadata": {
    "ExecuteTime": {
     "end_time": "2022-12-19T17:39:41.825593Z",
     "start_time": "2022-12-19T17:39:41.810633Z"
    },
    "scrolled": true
   },
   "outputs": [],
   "source": [
    "# cambiamos las categorías de educación todo a minúsculas\n",
    "df['education'] = df['education'].str.lower()"
   ]
  },
  {
   "cell_type": "code",
   "execution_count": 18,
   "metadata": {
    "ExecuteTime": {
     "end_time": "2022-12-19T17:39:41.841550Z",
     "start_time": "2022-12-19T17:39:41.826592Z"
    }
   },
   "outputs": [
    {
     "data": {
      "text/plain": [
       "secondary education    15233\n",
       "bachelor's degree       5260\n",
       "some college             744\n",
       "primary education        282\n",
       "graduate degree            6\n",
       "Name: education, dtype: int64"
      ]
     },
     "execution_count": 18,
     "metadata": {},
     "output_type": "execute_result"
    }
   ],
   "source": [
    "df['education'].value_counts()"
   ]
  },
  {
   "cell_type": "markdown",
   "metadata": {},
   "source": [
    "Hemos corregido las categorías de educación colocando todo en minúscula nos hemos librado de categorías duplicadas como secondary education. \n",
    "\n",
    "Ahora revisemos los datos de la columna `children`"
   ]
  },
  {
   "cell_type": "code",
   "execution_count": 19,
   "metadata": {
    "ExecuteTime": {
     "end_time": "2022-12-19T17:39:41.857507Z",
     "start_time": "2022-12-19T17:39:41.842548Z"
    }
   },
   "outputs": [
    {
     "data": {
      "text/plain": [
       " 0     14149\n",
       " 1      4818\n",
       " 2      2055\n",
       " 3       330\n",
       " 20       76\n",
       "-1        47\n",
       " 4        41\n",
       " 5         9\n",
       "Name: children, dtype: int64"
      ]
     },
     "execution_count": 19,
     "metadata": {},
     "output_type": "execute_result"
    }
   ],
   "source": [
    "df['children'].value_counts()"
   ]
  },
  {
   "cell_type": "markdown",
   "metadata": {},
   "source": [
    "Se pueden observar el -1 y 20 son valores extraños en número de hijos. En total suman 123 registros errones que corresponde a 0.0057%. Estos valores son datos problemas, puesto que deben ser solo valores positivos, y 20 corresponde a un valor atípico también por ser absurdamente alto.\n",
    "\n",
    "A continuación vamos a reemplazar estos valores atípicos por la mediana"
   ]
  },
  {
   "cell_type": "code",
   "execution_count": 20,
   "metadata": {
    "ExecuteTime": {
     "end_time": "2022-12-19T17:39:41.868131Z",
     "start_time": "2022-12-19T17:39:41.860501Z"
    }
   },
   "outputs": [
    {
     "data": {
      "text/plain": [
       "0"
      ]
     },
     "execution_count": 20,
     "metadata": {},
     "output_type": "execute_result"
    }
   ],
   "source": [
    "# Calculamos la mediana de la columna children\n",
    "median_children = df['children'].median()\n",
    "median_children = int(median_children)\n",
    "median_children"
   ]
  },
  {
   "cell_type": "code",
   "execution_count": 21,
   "metadata": {
    "ExecuteTime": {
     "end_time": "2022-12-19T17:39:41.883789Z",
     "start_time": "2022-12-19T17:39:41.868131Z"
    }
   },
   "outputs": [],
   "source": [
    "# Reemplazamos el valor de la mediana donde se encuentren -1 y 20 hijos\n",
    "df.loc[(df['children'] == -1) | (df['children'] == 20),\n",
    "       'children'] = median_children"
   ]
  },
  {
   "cell_type": "code",
   "execution_count": 22,
   "metadata": {
    "ExecuteTime": {
     "end_time": "2022-12-19T17:39:41.899255Z",
     "start_time": "2022-12-19T17:39:41.884787Z"
    }
   },
   "outputs": [
    {
     "data": {
      "text/plain": [
       "0    14272\n",
       "1     4818\n",
       "2     2055\n",
       "3      330\n",
       "4       41\n",
       "5        9\n",
       "Name: children, dtype: int64"
      ]
     },
     "execution_count": 22,
     "metadata": {},
     "output_type": "execute_result"
    }
   ],
   "source": [
    "# Comprobar la columna `children` de nuevo para asegurarnos de que todo está arreglado\n",
    "df['children'].value_counts()"
   ]
  },
  {
   "cell_type": "markdown",
   "metadata": {},
   "source": [
    "Hemos corregido los valores de -1 y 20 en la columna children, identificados como valores extraños y reemplazados por su mediana, siendo esta 0, y siendo 0 el valor más repetido también dentro de los datos.\n",
    "\n",
    "Ahora revisemos los datos en la columna `days_employed`. "
   ]
  },
  {
   "cell_type": "code",
   "execution_count": 23,
   "metadata": {
    "ExecuteTime": {
     "end_time": "2022-12-19T17:39:41.915213Z",
     "start_time": "2022-12-19T17:39:41.900254Z"
    }
   },
   "outputs": [
    {
     "data": {
      "text/plain": [
       "count     19351.000000\n",
       "mean      63046.497661\n",
       "std      140827.311974\n",
       "min      -18388.949901\n",
       "25%       -2747.423625\n",
       "50%       -1203.369529\n",
       "75%        -291.095954\n",
       "max      401755.400475\n",
       "Name: days_employed, dtype: float64"
      ]
     },
     "execution_count": 23,
     "metadata": {},
     "output_type": "execute_result"
    }
   ],
   "source": [
    "# Encuentra datos problemáticos en `days_employed`, si existen, y calcula el porcentaje\n",
    "df['days_employed'].describe()"
   ]
  },
  {
   "cell_type": "code",
   "execution_count": 24,
   "metadata": {
    "ExecuteTime": {
     "end_time": "2022-12-19T17:39:41.931170Z",
     "start_time": "2022-12-19T17:39:41.916212Z"
    }
   },
   "outputs": [
    {
     "name": "stdout",
     "output_type": "stream",
     "text": [
      "Negativos dentro de days_employed: 74%\n"
     ]
    }
   ],
   "source": [
    "# Revisamos % de los valores negativos de días laborados\n",
    "porcent = len(df[df['days_employed'] < 0]) / len(df['days_employed'])\n",
    "print(f'Negativos dentro de days_employed: { porcent:.0%}')"
   ]
  },
  {
   "cell_type": "code",
   "execution_count": 25,
   "metadata": {
    "ExecuteTime": {
     "end_time": "2022-12-19T17:39:41.946131Z",
     "start_time": "2022-12-19T17:39:41.932168Z"
    },
    "scrolled": true
   },
   "outputs": [
    {
     "data": {
      "text/plain": [
       "count    19351.000000\n",
       "mean       172.730131\n",
       "std        385.828252\n",
       "min        -50.380685\n",
       "25%         -7.527188\n",
       "50%         -3.296903\n",
       "75%         -0.797523\n",
       "max       1100.699727\n",
       "Name: days_employed, dtype: float64"
      ]
     },
     "execution_count": 25,
     "metadata": {},
     "output_type": "execute_result"
    }
   ],
   "source": [
    "# Revisamos los valores de dias laborados ya que parecen excesivamente altos. Mostremos la equivalencia en años\n",
    "(df.days_employed/365).describe()"
   ]
  },
  {
   "cell_type": "markdown",
   "metadata": {},
   "source": [
    "-  Podemos notar en `days_employed` que el 74% de los datos son valores negativos, representando la mayoría de los datos de esta columna. Se desconoce el motivo por qué están negativos los valores, pero podría deberse a problemas técnicos al ingreso o exportación de los datos.\n",
    "\n",
    "\n",
    "-  También notamos que los valores positivos en esta columna, tiene valores excesivamente altos para representar a días laborados por un cliente. Revisando la equivalencia en años podemos confirmar que hay un problema, ya que el valor mayor en años trabajados es de 1100 y la media es de 172 años, esto sería irreal.\n",
    "\n",
    "\n",
    "-  A continuación, transformaremos todos los valores positivos que representan a los valores atípicamente grandes por NaN, y cambiaremos a positivos los valores negativos que identificamos."
   ]
  },
  {
   "cell_type": "code",
   "execution_count": 26,
   "metadata": {
    "ExecuteTime": {
     "end_time": "2022-12-19T17:39:41.977051Z",
     "start_time": "2022-12-19T17:39:41.948126Z"
    }
   },
   "outputs": [
    {
     "data": {
      "text/html": [
       "<div>\n",
       "<style scoped>\n",
       "    .dataframe tbody tr th:only-of-type {\n",
       "        vertical-align: middle;\n",
       "    }\n",
       "\n",
       "    .dataframe tbody tr th {\n",
       "        vertical-align: top;\n",
       "    }\n",
       "\n",
       "    .dataframe thead th {\n",
       "        text-align: right;\n",
       "    }\n",
       "</style>\n",
       "<table border=\"1\" class=\"dataframe\">\n",
       "  <thead>\n",
       "    <tr style=\"text-align: right;\">\n",
       "      <th></th>\n",
       "      <th>children</th>\n",
       "      <th>days_employed</th>\n",
       "      <th>dob_years</th>\n",
       "      <th>education</th>\n",
       "      <th>education_id</th>\n",
       "      <th>family_status</th>\n",
       "      <th>family_status_id</th>\n",
       "      <th>gender</th>\n",
       "      <th>income_type</th>\n",
       "      <th>debt</th>\n",
       "      <th>total_income</th>\n",
       "      <th>purpose</th>\n",
       "    </tr>\n",
       "  </thead>\n",
       "  <tbody>\n",
       "    <tr>\n",
       "      <th>4</th>\n",
       "      <td>0</td>\n",
       "      <td>340266.072047</td>\n",
       "      <td>53</td>\n",
       "      <td>secondary education</td>\n",
       "      <td>1</td>\n",
       "      <td>civil partnership</td>\n",
       "      <td>1</td>\n",
       "      <td>F</td>\n",
       "      <td>retiree</td>\n",
       "      <td>0</td>\n",
       "      <td>25378.572</td>\n",
       "      <td>to have a wedding</td>\n",
       "    </tr>\n",
       "    <tr>\n",
       "      <th>18</th>\n",
       "      <td>0</td>\n",
       "      <td>400281.136913</td>\n",
       "      <td>53</td>\n",
       "      <td>secondary education</td>\n",
       "      <td>1</td>\n",
       "      <td>widow / widower</td>\n",
       "      <td>2</td>\n",
       "      <td>F</td>\n",
       "      <td>retiree</td>\n",
       "      <td>0</td>\n",
       "      <td>9091.804</td>\n",
       "      <td>buying a second-hand car</td>\n",
       "    </tr>\n",
       "    <tr>\n",
       "      <th>24</th>\n",
       "      <td>1</td>\n",
       "      <td>338551.952911</td>\n",
       "      <td>57</td>\n",
       "      <td>secondary education</td>\n",
       "      <td>1</td>\n",
       "      <td>unmarried</td>\n",
       "      <td>4</td>\n",
       "      <td>F</td>\n",
       "      <td>retiree</td>\n",
       "      <td>0</td>\n",
       "      <td>46487.558</td>\n",
       "      <td>transactions with commercial real estate</td>\n",
       "    </tr>\n",
       "    <tr>\n",
       "      <th>25</th>\n",
       "      <td>0</td>\n",
       "      <td>363548.489348</td>\n",
       "      <td>67</td>\n",
       "      <td>secondary education</td>\n",
       "      <td>1</td>\n",
       "      <td>married</td>\n",
       "      <td>0</td>\n",
       "      <td>M</td>\n",
       "      <td>retiree</td>\n",
       "      <td>0</td>\n",
       "      <td>8818.041</td>\n",
       "      <td>buy real estate</td>\n",
       "    </tr>\n",
       "    <tr>\n",
       "      <th>30</th>\n",
       "      <td>1</td>\n",
       "      <td>335581.668515</td>\n",
       "      <td>62</td>\n",
       "      <td>secondary education</td>\n",
       "      <td>1</td>\n",
       "      <td>married</td>\n",
       "      <td>0</td>\n",
       "      <td>F</td>\n",
       "      <td>retiree</td>\n",
       "      <td>0</td>\n",
       "      <td>27432.971</td>\n",
       "      <td>transactions with commercial real estate</td>\n",
       "    </tr>\n",
       "    <tr>\n",
       "      <th>...</th>\n",
       "      <td>...</td>\n",
       "      <td>...</td>\n",
       "      <td>...</td>\n",
       "      <td>...</td>\n",
       "      <td>...</td>\n",
       "      <td>...</td>\n",
       "      <td>...</td>\n",
       "      <td>...</td>\n",
       "      <td>...</td>\n",
       "      <td>...</td>\n",
       "      <td>...</td>\n",
       "      <td>...</td>\n",
       "    </tr>\n",
       "    <tr>\n",
       "      <th>21505</th>\n",
       "      <td>0</td>\n",
       "      <td>338904.866406</td>\n",
       "      <td>53</td>\n",
       "      <td>secondary education</td>\n",
       "      <td>1</td>\n",
       "      <td>civil partnership</td>\n",
       "      <td>1</td>\n",
       "      <td>M</td>\n",
       "      <td>retiree</td>\n",
       "      <td>0</td>\n",
       "      <td>12070.399</td>\n",
       "      <td>to have a wedding</td>\n",
       "    </tr>\n",
       "    <tr>\n",
       "      <th>21508</th>\n",
       "      <td>0</td>\n",
       "      <td>386497.714078</td>\n",
       "      <td>62</td>\n",
       "      <td>secondary education</td>\n",
       "      <td>1</td>\n",
       "      <td>married</td>\n",
       "      <td>0</td>\n",
       "      <td>M</td>\n",
       "      <td>retiree</td>\n",
       "      <td>0</td>\n",
       "      <td>11622.175</td>\n",
       "      <td>property</td>\n",
       "    </tr>\n",
       "    <tr>\n",
       "      <th>21509</th>\n",
       "      <td>0</td>\n",
       "      <td>362161.054124</td>\n",
       "      <td>59</td>\n",
       "      <td>bachelor's degree</td>\n",
       "      <td>0</td>\n",
       "      <td>married</td>\n",
       "      <td>0</td>\n",
       "      <td>M</td>\n",
       "      <td>retiree</td>\n",
       "      <td>0</td>\n",
       "      <td>11684.650</td>\n",
       "      <td>real estate transactions</td>\n",
       "    </tr>\n",
       "    <tr>\n",
       "      <th>21518</th>\n",
       "      <td>0</td>\n",
       "      <td>373995.710838</td>\n",
       "      <td>59</td>\n",
       "      <td>secondary education</td>\n",
       "      <td>1</td>\n",
       "      <td>married</td>\n",
       "      <td>0</td>\n",
       "      <td>F</td>\n",
       "      <td>retiree</td>\n",
       "      <td>0</td>\n",
       "      <td>24618.344</td>\n",
       "      <td>purchase of a car</td>\n",
       "    </tr>\n",
       "    <tr>\n",
       "      <th>21521</th>\n",
       "      <td>0</td>\n",
       "      <td>343937.404131</td>\n",
       "      <td>67</td>\n",
       "      <td>secondary education</td>\n",
       "      <td>1</td>\n",
       "      <td>married</td>\n",
       "      <td>0</td>\n",
       "      <td>F</td>\n",
       "      <td>retiree</td>\n",
       "      <td>0</td>\n",
       "      <td>24959.969</td>\n",
       "      <td>purchase of a car</td>\n",
       "    </tr>\n",
       "  </tbody>\n",
       "</table>\n",
       "<p>3445 rows × 12 columns</p>\n",
       "</div>"
      ],
      "text/plain": [
       "       children  days_employed  dob_years            education  education_id  \\\n",
       "4             0  340266.072047         53  secondary education             1   \n",
       "18            0  400281.136913         53  secondary education             1   \n",
       "24            1  338551.952911         57  secondary education             1   \n",
       "25            0  363548.489348         67  secondary education             1   \n",
       "30            1  335581.668515         62  secondary education             1   \n",
       "...         ...            ...        ...                  ...           ...   \n",
       "21505         0  338904.866406         53  secondary education             1   \n",
       "21508         0  386497.714078         62  secondary education             1   \n",
       "21509         0  362161.054124         59    bachelor's degree             0   \n",
       "21518         0  373995.710838         59  secondary education             1   \n",
       "21521         0  343937.404131         67  secondary education             1   \n",
       "\n",
       "           family_status  family_status_id gender income_type  debt  \\\n",
       "4      civil partnership                 1      F     retiree     0   \n",
       "18       widow / widower                 2      F     retiree     0   \n",
       "24             unmarried                 4      F     retiree     0   \n",
       "25               married                 0      M     retiree     0   \n",
       "30               married                 0      F     retiree     0   \n",
       "...                  ...               ...    ...         ...   ...   \n",
       "21505  civil partnership                 1      M     retiree     0   \n",
       "21508            married                 0      M     retiree     0   \n",
       "21509            married                 0      M     retiree     0   \n",
       "21518            married                 0      F     retiree     0   \n",
       "21521            married                 0      F     retiree     0   \n",
       "\n",
       "       total_income                                   purpose  \n",
       "4         25378.572                         to have a wedding  \n",
       "18         9091.804                  buying a second-hand car  \n",
       "24        46487.558  transactions with commercial real estate  \n",
       "25         8818.041                           buy real estate  \n",
       "30        27432.971  transactions with commercial real estate  \n",
       "...             ...                                       ...  \n",
       "21505     12070.399                         to have a wedding  \n",
       "21508     11622.175                                  property  \n",
       "21509     11684.650                  real estate transactions  \n",
       "21518     24618.344                         purchase of a car  \n",
       "21521     24959.969                         purchase of a car  \n",
       "\n",
       "[3445 rows x 12 columns]"
      ]
     },
     "execution_count": 26,
     "metadata": {},
     "output_type": "execute_result"
    }
   ],
   "source": [
    "# Aborda los valores problemáticos: atípicamente grandes\n",
    "\n",
    "# Filtremos cuales los valores positivos grandes\n",
    "df[df.days_employed > 0]"
   ]
  },
  {
   "cell_type": "code",
   "execution_count": 27,
   "metadata": {
    "ExecuteTime": {
     "end_time": "2022-12-19T17:39:41.987266Z",
     "start_time": "2022-12-19T17:39:41.978068Z"
    }
   },
   "outputs": [],
   "source": [
    "#  Convirtamos a NaN los valores atípicamente grandes\n",
    "df.loc[df.days_employed > 0, 'days_employed'] = None"
   ]
  },
  {
   "cell_type": "code",
   "execution_count": 28,
   "metadata": {
    "ExecuteTime": {
     "end_time": "2022-12-19T17:39:42.002512Z",
     "start_time": "2022-12-19T17:39:41.993537Z"
    }
   },
   "outputs": [
    {
     "data": {
      "text/plain": [
       "0"
      ]
     },
     "execution_count": 28,
     "metadata": {},
     "output_type": "execute_result"
    }
   ],
   "source": [
    "#  Comprobamos que fueron reemplazados por NaN\n",
    "len(df[df.days_employed > 0])"
   ]
  },
  {
   "cell_type": "code",
   "execution_count": 29,
   "metadata": {
    "ExecuteTime": {
     "end_time": "2022-12-19T17:39:42.018470Z",
     "start_time": "2022-12-19T17:39:42.003511Z"
    }
   },
   "outputs": [
    {
     "data": {
      "text/plain": [
       "5619"
      ]
     },
     "execution_count": 29,
     "metadata": {},
     "output_type": "execute_result"
    }
   ],
   "source": [
    "# Revisemos total de NaN\n",
    "df.days_employed.isna().sum()"
   ]
  },
  {
   "cell_type": "markdown",
   "metadata": {},
   "source": [
    "Se reemplazaron 3.445 valores positivos por NaN y finalmente quedan en total 5.619 NaN en la columna `day_employed`."
   ]
  },
  {
   "cell_type": "code",
   "execution_count": 30,
   "metadata": {
    "ExecuteTime": {
     "end_time": "2022-12-19T17:39:42.034427Z",
     "start_time": "2022-12-19T17:39:42.019479Z"
    }
   },
   "outputs": [],
   "source": [
    "# convertir a positivos todos los valores negativos\n",
    "df['days_employed'] = abs(df['days_employed'])"
   ]
  },
  {
   "cell_type": "code",
   "execution_count": 31,
   "metadata": {
    "ExecuteTime": {
     "end_time": "2022-12-19T17:39:42.050384Z",
     "start_time": "2022-12-19T17:39:42.035425Z"
    }
   },
   "outputs": [
    {
     "data": {
      "text/plain": [
       "0"
      ]
     },
     "execution_count": 31,
     "metadata": {},
     "output_type": "execute_result"
    }
   ],
   "source": [
    "# Comprobamos que no existan valores negativos\n",
    "len(df[df['days_employed'] < 0])"
   ]
  },
  {
   "cell_type": "code",
   "execution_count": 32,
   "metadata": {
    "ExecuteTime": {
     "end_time": "2022-12-19T17:39:42.066342Z",
     "start_time": "2022-12-19T17:39:42.052380Z"
    }
   },
   "outputs": [
    {
     "data": {
      "text/plain": [
       "count    15906.000000\n",
       "mean      2353.015932\n",
       "std       2304.243851\n",
       "min         24.141633\n",
       "25%        756.371964\n",
       "50%       1630.019381\n",
       "75%       3157.480084\n",
       "max      18388.949901\n",
       "Name: days_employed, dtype: float64"
      ]
     },
     "execution_count": 32,
     "metadata": {},
     "output_type": "execute_result"
    }
   ],
   "source": [
    "df.days_employed.describe()"
   ]
  },
  {
   "cell_type": "markdown",
   "metadata": {},
   "source": [
    "Hemos corregido los valores atípicamente grandes por valores NaN, esto con el fin de posteriormente realizar el imputamiento de todos los valores ausentes en la columna. Además transformamos todos los valores negativos a positivos. Ahora los datos de la columna `days_employed` se ven coherentes.\n",
    "\n",
    "\n",
    "Ahora echemos un vistazo a la `dob_years`:"
   ]
  },
  {
   "cell_type": "code",
   "execution_count": 33,
   "metadata": {
    "ExecuteTime": {
     "end_time": "2022-12-19T17:39:42.082302Z",
     "start_time": "2022-12-19T17:39:42.067340Z"
    },
    "scrolled": true
   },
   "outputs": [
    {
     "data": {
      "text/plain": [
       "array([ 0, 19, 20, 21, 22, 23, 24, 25, 26, 27, 28, 29, 30, 31, 32, 33, 34,\n",
       "       35, 36, 37, 38, 39, 40, 41, 42, 43, 44, 45, 46, 47, 48, 49, 50, 51,\n",
       "       52, 53, 54, 55, 56, 57, 58, 59, 60, 61, 62, 63, 64, 65, 66, 67, 68,\n",
       "       69, 70, 71, 72, 73, 74, 75], dtype=int64)"
      ]
     },
     "execution_count": 33,
     "metadata": {},
     "output_type": "execute_result"
    }
   ],
   "source": [
    "df['dob_years'].sort_values().unique()"
   ]
  },
  {
   "cell_type": "code",
   "execution_count": 34,
   "metadata": {
    "ExecuteTime": {
     "end_time": "2022-12-19T17:39:42.094663Z",
     "start_time": "2022-12-19T17:39:42.084298Z"
    }
   },
   "outputs": [
    {
     "data": {
      "text/plain": [
       "101"
      ]
     },
     "execution_count": 34,
     "metadata": {},
     "output_type": "execute_result"
    }
   ],
   "source": [
    "len(df[df['dob_years'] == 0])"
   ]
  },
  {
   "cell_type": "code",
   "execution_count": 35,
   "metadata": {
    "ExecuteTime": {
     "end_time": "2022-12-19T17:39:42.109798Z",
     "start_time": "2022-12-19T17:39:42.094663Z"
    }
   },
   "outputs": [
    {
     "data": {
      "text/html": [
       "<div>\n",
       "<style scoped>\n",
       "    .dataframe tbody tr th:only-of-type {\n",
       "        vertical-align: middle;\n",
       "    }\n",
       "\n",
       "    .dataframe tbody tr th {\n",
       "        vertical-align: top;\n",
       "    }\n",
       "\n",
       "    .dataframe thead th {\n",
       "        text-align: right;\n",
       "    }\n",
       "</style>\n",
       "<table border=\"1\" class=\"dataframe\">\n",
       "  <thead>\n",
       "    <tr style=\"text-align: right;\">\n",
       "      <th></th>\n",
       "      <th>children</th>\n",
       "      <th>days_employed</th>\n",
       "      <th>dob_years</th>\n",
       "      <th>education</th>\n",
       "      <th>education_id</th>\n",
       "      <th>family_status</th>\n",
       "      <th>family_status_id</th>\n",
       "      <th>gender</th>\n",
       "      <th>income_type</th>\n",
       "      <th>debt</th>\n",
       "      <th>total_income</th>\n",
       "      <th>purpose</th>\n",
       "    </tr>\n",
       "  </thead>\n",
       "  <tbody>\n",
       "    <tr>\n",
       "      <th>99</th>\n",
       "      <td>0</td>\n",
       "      <td>NaN</td>\n",
       "      <td>0</td>\n",
       "      <td>secondary education</td>\n",
       "      <td>1</td>\n",
       "      <td>married</td>\n",
       "      <td>0</td>\n",
       "      <td>F</td>\n",
       "      <td>retiree</td>\n",
       "      <td>0</td>\n",
       "      <td>11406.644</td>\n",
       "      <td>car</td>\n",
       "    </tr>\n",
       "    <tr>\n",
       "      <th>149</th>\n",
       "      <td>0</td>\n",
       "      <td>2664.273168</td>\n",
       "      <td>0</td>\n",
       "      <td>secondary education</td>\n",
       "      <td>1</td>\n",
       "      <td>divorced</td>\n",
       "      <td>3</td>\n",
       "      <td>F</td>\n",
       "      <td>employee</td>\n",
       "      <td>0</td>\n",
       "      <td>11228.230</td>\n",
       "      <td>housing transactions</td>\n",
       "    </tr>\n",
       "    <tr>\n",
       "      <th>270</th>\n",
       "      <td>3</td>\n",
       "      <td>1872.663186</td>\n",
       "      <td>0</td>\n",
       "      <td>secondary education</td>\n",
       "      <td>1</td>\n",
       "      <td>married</td>\n",
       "      <td>0</td>\n",
       "      <td>F</td>\n",
       "      <td>employee</td>\n",
       "      <td>0</td>\n",
       "      <td>16346.633</td>\n",
       "      <td>housing renovation</td>\n",
       "    </tr>\n",
       "    <tr>\n",
       "      <th>578</th>\n",
       "      <td>0</td>\n",
       "      <td>NaN</td>\n",
       "      <td>0</td>\n",
       "      <td>secondary education</td>\n",
       "      <td>1</td>\n",
       "      <td>married</td>\n",
       "      <td>0</td>\n",
       "      <td>F</td>\n",
       "      <td>retiree</td>\n",
       "      <td>0</td>\n",
       "      <td>15619.310</td>\n",
       "      <td>construction of own property</td>\n",
       "    </tr>\n",
       "    <tr>\n",
       "      <th>1040</th>\n",
       "      <td>0</td>\n",
       "      <td>1158.029561</td>\n",
       "      <td>0</td>\n",
       "      <td>bachelor's degree</td>\n",
       "      <td>0</td>\n",
       "      <td>divorced</td>\n",
       "      <td>3</td>\n",
       "      <td>F</td>\n",
       "      <td>business</td>\n",
       "      <td>0</td>\n",
       "      <td>48639.062</td>\n",
       "      <td>to own a car</td>\n",
       "    </tr>\n",
       "  </tbody>\n",
       "</table>\n",
       "</div>"
      ],
      "text/plain": [
       "      children  days_employed  dob_years            education  education_id  \\\n",
       "99           0            NaN          0  secondary education             1   \n",
       "149          0    2664.273168          0  secondary education             1   \n",
       "270          3    1872.663186          0  secondary education             1   \n",
       "578          0            NaN          0  secondary education             1   \n",
       "1040         0    1158.029561          0    bachelor's degree             0   \n",
       "\n",
       "     family_status  family_status_id gender income_type  debt  total_income  \\\n",
       "99         married                 0      F     retiree     0     11406.644   \n",
       "149       divorced                 3      F    employee     0     11228.230   \n",
       "270        married                 0      F    employee     0     16346.633   \n",
       "578        married                 0      F     retiree     0     15619.310   \n",
       "1040      divorced                 3      F    business     0     48639.062   \n",
       "\n",
       "                           purpose  \n",
       "99                             car  \n",
       "149           housing transactions  \n",
       "270             housing renovation  \n",
       "578   construction of own property  \n",
       "1040                  to own a car  "
      ]
     },
     "execution_count": 35,
     "metadata": {},
     "output_type": "execute_result"
    }
   ],
   "source": [
    "df[df['dob_years'] == 0].head()"
   ]
  },
  {
   "cell_type": "code",
   "execution_count": 36,
   "metadata": {
    "ExecuteTime": {
     "end_time": "2022-12-19T17:39:42.125754Z",
     "start_time": "2022-12-19T17:39:42.110795Z"
    }
   },
   "outputs": [
    {
     "name": "stdout",
     "output_type": "stream",
     "text": [
      "0.5% son edades con 0\n"
     ]
    }
   ],
   "source": [
    "porcent_age_cero = len(df[df['dob_years'] == 0]) / len(df['dob_years'])\n",
    "print(f'{ porcent_age_cero:.1%} son edades con 0')"
   ]
  },
  {
   "cell_type": "markdown",
   "metadata": {},
   "source": [
    "Se encontró que el 0.5% de los datos tienen valores 0 en edad, estos datos serían erróneos. Calculemos la mediana para reemplazar con esta las edades 0. La edad 0 también es el valor más repetido de todos las edades."
   ]
  },
  {
   "cell_type": "code",
   "execution_count": 37,
   "metadata": {
    "ExecuteTime": {
     "end_time": "2022-12-19T17:39:42.141711Z",
     "start_time": "2022-12-19T17:39:42.126754Z"
    }
   },
   "outputs": [
    {
     "data": {
      "text/plain": [
       "43"
      ]
     },
     "execution_count": 37,
     "metadata": {},
     "output_type": "execute_result"
    }
   ],
   "source": [
    "# mediana de edad\n",
    "\n",
    "median_dob_years = int(df[df.dob_years != 0]['dob_years'].median())\n",
    "median_dob_years"
   ]
  },
  {
   "cell_type": "code",
   "execution_count": 38,
   "metadata": {
    "ExecuteTime": {
     "end_time": "2022-12-19T17:39:42.157669Z",
     "start_time": "2022-12-19T17:39:42.142710Z"
    }
   },
   "outputs": [],
   "source": [
    "# asignamos el valor de la mediana de dob_years a los valores cero.\n",
    "\n",
    "df.loc[df['dob_years'] == 0, 'dob_years'] = median_dob_years"
   ]
  },
  {
   "cell_type": "code",
   "execution_count": 39,
   "metadata": {
    "ExecuteTime": {
     "end_time": "2022-12-19T17:39:42.173627Z",
     "start_time": "2022-12-19T17:39:42.158667Z"
    }
   },
   "outputs": [
    {
     "data": {
      "text/plain": [
       "array([19, 20, 21, 22, 23, 24, 25, 26, 27, 28, 29, 30, 31, 32, 33, 34, 35,\n",
       "       36, 37, 38, 39, 40, 41, 42, 43, 44, 45, 46, 47, 48, 49, 50, 51, 52,\n",
       "       53, 54, 55, 56, 57, 58, 59, 60, 61, 62, 63, 64, 65, 66, 67, 68, 69,\n",
       "       70, 71, 72, 73, 74, 75], dtype=int64)"
      ]
     },
     "execution_count": 39,
     "metadata": {},
     "output_type": "execute_result"
    }
   ],
   "source": [
    "# Comprueba el resultado\n",
    "df['dob_years'].sort_values().unique()"
   ]
  },
  {
   "cell_type": "code",
   "execution_count": 40,
   "metadata": {
    "ExecuteTime": {
     "end_time": "2022-12-19T17:39:42.189587Z",
     "start_time": "2022-12-19T17:39:42.174624Z"
    }
   },
   "outputs": [
    {
     "data": {
      "text/plain": [
       "0"
      ]
     },
     "execution_count": 40,
     "metadata": {},
     "output_type": "execute_result"
    }
   ],
   "source": [
    "len(df[df['dob_years'] == 0])"
   ]
  },
  {
   "cell_type": "code",
   "execution_count": 41,
   "metadata": {
    "ExecuteTime": {
     "end_time": "2022-12-19T17:39:42.205061Z",
     "start_time": "2022-12-19T17:39:42.190585Z"
    }
   },
   "outputs": [
    {
     "data": {
      "text/plain": [
       "count    21525.000000\n",
       "mean        43.495145\n",
       "std         12.218213\n",
       "min         19.000000\n",
       "25%         34.000000\n",
       "50%         43.000000\n",
       "75%         53.000000\n",
       "max         75.000000\n",
       "Name: dob_years, dtype: float64"
      ]
     },
     "execution_count": 41,
     "metadata": {},
     "output_type": "execute_result"
    }
   ],
   "source": [
    "df.dob_years.describe()"
   ]
  },
  {
   "cell_type": "markdown",
   "metadata": {},
   "source": [
    "Hemos reemplazado por la mediana `43` todos los valores 0 de edades.\n",
    "\n",
    "Ahora revisemos la columna `family_status` por si existiera algún problema podamos abordar."
   ]
  },
  {
   "cell_type": "code",
   "execution_count": 42,
   "metadata": {
    "ExecuteTime": {
     "end_time": "2022-12-19T17:39:42.213544Z",
     "start_time": "2022-12-19T17:39:42.206059Z"
    }
   },
   "outputs": [
    {
     "data": {
      "text/plain": [
       "married              12380\n",
       "civil partnership     4177\n",
       "unmarried             2813\n",
       "divorced              1195\n",
       "widow / widower        960\n",
       "Name: family_status, dtype: int64"
      ]
     },
     "execution_count": 42,
     "metadata": {},
     "output_type": "execute_result"
    }
   ],
   "source": [
    "df.family_status.value_counts()"
   ]
  },
  {
   "cell_type": "code",
   "execution_count": 43,
   "metadata": {
    "ExecuteTime": {
     "end_time": "2022-12-19T17:39:42.229456Z",
     "start_time": "2022-12-19T17:39:42.213544Z"
    }
   },
   "outputs": [
    {
     "data": {
      "text/plain": [
       "count       21525\n",
       "unique          5\n",
       "top       married\n",
       "freq        12380\n",
       "Name: family_status, dtype: object"
      ]
     },
     "execution_count": 43,
     "metadata": {},
     "output_type": "execute_result"
    }
   ],
   "source": [
    "df.family_status.describe()"
   ]
  },
  {
   "cell_type": "markdown",
   "metadata": {},
   "source": [
    "Los datos de `family_status` están bien. Ahora revisemos la columna `gender`."
   ]
  },
  {
   "cell_type": "code",
   "execution_count": 44,
   "metadata": {
    "ExecuteTime": {
     "end_time": "2022-12-19T17:39:42.244416Z",
     "start_time": "2022-12-19T17:39:42.230454Z"
    },
    "scrolled": true
   },
   "outputs": [
    {
     "data": {
      "text/plain": [
       "F      14236\n",
       "M       7288\n",
       "XNA        1\n",
       "Name: gender, dtype: int64"
      ]
     },
     "execution_count": 44,
     "metadata": {},
     "output_type": "execute_result"
    }
   ],
   "source": [
    "# Veamos los valores en la columna\n",
    "df.gender.value_counts()"
   ]
  },
  {
   "cell_type": "code",
   "execution_count": 45,
   "metadata": {
    "ExecuteTime": {
     "end_time": "2022-12-19T17:39:42.260373Z",
     "start_time": "2022-12-19T17:39:42.246411Z"
    }
   },
   "outputs": [
    {
     "data": {
      "text/html": [
       "<div>\n",
       "<style scoped>\n",
       "    .dataframe tbody tr th:only-of-type {\n",
       "        vertical-align: middle;\n",
       "    }\n",
       "\n",
       "    .dataframe tbody tr th {\n",
       "        vertical-align: top;\n",
       "    }\n",
       "\n",
       "    .dataframe thead th {\n",
       "        text-align: right;\n",
       "    }\n",
       "</style>\n",
       "<table border=\"1\" class=\"dataframe\">\n",
       "  <thead>\n",
       "    <tr style=\"text-align: right;\">\n",
       "      <th></th>\n",
       "      <th>children</th>\n",
       "      <th>days_employed</th>\n",
       "      <th>dob_years</th>\n",
       "      <th>education</th>\n",
       "      <th>education_id</th>\n",
       "      <th>family_status</th>\n",
       "      <th>family_status_id</th>\n",
       "      <th>gender</th>\n",
       "      <th>income_type</th>\n",
       "      <th>debt</th>\n",
       "      <th>total_income</th>\n",
       "      <th>purpose</th>\n",
       "    </tr>\n",
       "  </thead>\n",
       "  <tbody>\n",
       "    <tr>\n",
       "      <th>10701</th>\n",
       "      <td>0</td>\n",
       "      <td>2358.600502</td>\n",
       "      <td>24</td>\n",
       "      <td>some college</td>\n",
       "      <td>2</td>\n",
       "      <td>civil partnership</td>\n",
       "      <td>1</td>\n",
       "      <td>XNA</td>\n",
       "      <td>business</td>\n",
       "      <td>0</td>\n",
       "      <td>32624.825</td>\n",
       "      <td>buy real estate</td>\n",
       "    </tr>\n",
       "  </tbody>\n",
       "</table>\n",
       "</div>"
      ],
      "text/plain": [
       "       children  days_employed  dob_years     education  education_id  \\\n",
       "10701         0    2358.600502         24  some college             2   \n",
       "\n",
       "           family_status  family_status_id gender income_type  debt  \\\n",
       "10701  civil partnership                 1    XNA    business     0   \n",
       "\n",
       "       total_income          purpose  \n",
       "10701     32624.825  buy real estate  "
      ]
     },
     "execution_count": 45,
     "metadata": {},
     "output_type": "execute_result"
    }
   ],
   "source": [
    "df[df.gender == 'XNA']"
   ]
  },
  {
   "cell_type": "markdown",
   "metadata": {},
   "source": [
    "No se encuentra ningún indicio de que exista problemas con las categorías de género, un poco extraño que no se haya definido el genero en el registro 10701 y se indique XNA, pero se puede pensar que el género no ha querido especificarse por parte del cliente.\n",
    "\n",
    "Ahora vamos a revisar la columna `income_type`. Miremos qué tipo de valores hay y qué problemas puedemos abordar."
   ]
  },
  {
   "cell_type": "code",
   "execution_count": 46,
   "metadata": {
    "ExecuteTime": {
     "end_time": "2022-12-19T17:39:42.276331Z",
     "start_time": "2022-12-19T17:39:42.261372Z"
    }
   },
   "outputs": [
    {
     "data": {
      "text/plain": [
       "employee                       0.516562\n",
       "business                       0.236237\n",
       "retiree                        0.179141\n",
       "civil servant                  0.067782\n",
       "unemployed                     0.000093\n",
       "entrepreneur                   0.000093\n",
       "student                        0.000046\n",
       "paternity / maternity leave    0.000046\n",
       "Name: income_type, dtype: float64"
      ]
     },
     "execution_count": 46,
     "metadata": {},
     "output_type": "execute_result"
    }
   ],
   "source": [
    "df.income_type.value_counts(normalize=True)"
   ]
  },
  {
   "cell_type": "markdown",
   "metadata": {},
   "source": [
    "Se observan 8 categorías de tipo de empleo de las cuales las 4 primeras son donde están el 99% de los datos.\n",
    "\n",
    "\n",
    "Ahora veamos si hay `duplicados` en nuestros datos."
   ]
  },
  {
   "cell_type": "code",
   "execution_count": 47,
   "metadata": {
    "ExecuteTime": {
     "end_time": "2022-12-19T17:39:42.292291Z",
     "start_time": "2022-12-19T17:39:42.277332Z"
    }
   },
   "outputs": [
    {
     "data": {
      "text/plain": [
       "71"
      ]
     },
     "execution_count": 47,
     "metadata": {},
     "output_type": "execute_result"
    }
   ],
   "source": [
    "df.duplicated().sum()"
   ]
  },
  {
   "cell_type": "code",
   "execution_count": 48,
   "metadata": {
    "ExecuteTime": {
     "end_time": "2022-12-19T17:39:42.324359Z",
     "start_time": "2022-12-19T17:39:42.293441Z"
    }
   },
   "outputs": [
    {
     "data": {
      "text/html": [
       "<div>\n",
       "<style scoped>\n",
       "    .dataframe tbody tr th:only-of-type {\n",
       "        vertical-align: middle;\n",
       "    }\n",
       "\n",
       "    .dataframe tbody tr th {\n",
       "        vertical-align: top;\n",
       "    }\n",
       "\n",
       "    .dataframe thead th {\n",
       "        text-align: right;\n",
       "    }\n",
       "</style>\n",
       "<table border=\"1\" class=\"dataframe\">\n",
       "  <thead>\n",
       "    <tr style=\"text-align: right;\">\n",
       "      <th></th>\n",
       "      <th>children</th>\n",
       "      <th>days_employed</th>\n",
       "      <th>dob_years</th>\n",
       "      <th>education</th>\n",
       "      <th>education_id</th>\n",
       "      <th>family_status</th>\n",
       "      <th>family_status_id</th>\n",
       "      <th>gender</th>\n",
       "      <th>income_type</th>\n",
       "      <th>debt</th>\n",
       "      <th>total_income</th>\n",
       "      <th>purpose</th>\n",
       "    </tr>\n",
       "  </thead>\n",
       "  <tbody>\n",
       "    <tr>\n",
       "      <th>2849</th>\n",
       "      <td>0</td>\n",
       "      <td>NaN</td>\n",
       "      <td>41</td>\n",
       "      <td>secondary education</td>\n",
       "      <td>1</td>\n",
       "      <td>married</td>\n",
       "      <td>0</td>\n",
       "      <td>F</td>\n",
       "      <td>employee</td>\n",
       "      <td>0</td>\n",
       "      <td>NaN</td>\n",
       "      <td>purchase of the house for my family</td>\n",
       "    </tr>\n",
       "    <tr>\n",
       "      <th>3290</th>\n",
       "      <td>0</td>\n",
       "      <td>NaN</td>\n",
       "      <td>58</td>\n",
       "      <td>secondary education</td>\n",
       "      <td>1</td>\n",
       "      <td>civil partnership</td>\n",
       "      <td>1</td>\n",
       "      <td>F</td>\n",
       "      <td>retiree</td>\n",
       "      <td>0</td>\n",
       "      <td>NaN</td>\n",
       "      <td>to have a wedding</td>\n",
       "    </tr>\n",
       "    <tr>\n",
       "      <th>4182</th>\n",
       "      <td>1</td>\n",
       "      <td>NaN</td>\n",
       "      <td>34</td>\n",
       "      <td>bachelor's degree</td>\n",
       "      <td>0</td>\n",
       "      <td>civil partnership</td>\n",
       "      <td>1</td>\n",
       "      <td>F</td>\n",
       "      <td>employee</td>\n",
       "      <td>0</td>\n",
       "      <td>NaN</td>\n",
       "      <td>wedding ceremony</td>\n",
       "    </tr>\n",
       "    <tr>\n",
       "      <th>4851</th>\n",
       "      <td>0</td>\n",
       "      <td>NaN</td>\n",
       "      <td>60</td>\n",
       "      <td>secondary education</td>\n",
       "      <td>1</td>\n",
       "      <td>civil partnership</td>\n",
       "      <td>1</td>\n",
       "      <td>F</td>\n",
       "      <td>retiree</td>\n",
       "      <td>0</td>\n",
       "      <td>NaN</td>\n",
       "      <td>wedding ceremony</td>\n",
       "    </tr>\n",
       "    <tr>\n",
       "      <th>5557</th>\n",
       "      <td>0</td>\n",
       "      <td>NaN</td>\n",
       "      <td>58</td>\n",
       "      <td>secondary education</td>\n",
       "      <td>1</td>\n",
       "      <td>civil partnership</td>\n",
       "      <td>1</td>\n",
       "      <td>F</td>\n",
       "      <td>retiree</td>\n",
       "      <td>0</td>\n",
       "      <td>NaN</td>\n",
       "      <td>to have a wedding</td>\n",
       "    </tr>\n",
       "    <tr>\n",
       "      <th>...</th>\n",
       "      <td>...</td>\n",
       "      <td>...</td>\n",
       "      <td>...</td>\n",
       "      <td>...</td>\n",
       "      <td>...</td>\n",
       "      <td>...</td>\n",
       "      <td>...</td>\n",
       "      <td>...</td>\n",
       "      <td>...</td>\n",
       "      <td>...</td>\n",
       "      <td>...</td>\n",
       "      <td>...</td>\n",
       "    </tr>\n",
       "    <tr>\n",
       "      <th>20702</th>\n",
       "      <td>0</td>\n",
       "      <td>NaN</td>\n",
       "      <td>64</td>\n",
       "      <td>secondary education</td>\n",
       "      <td>1</td>\n",
       "      <td>married</td>\n",
       "      <td>0</td>\n",
       "      <td>F</td>\n",
       "      <td>retiree</td>\n",
       "      <td>0</td>\n",
       "      <td>NaN</td>\n",
       "      <td>supplementary education</td>\n",
       "    </tr>\n",
       "    <tr>\n",
       "      <th>21032</th>\n",
       "      <td>0</td>\n",
       "      <td>NaN</td>\n",
       "      <td>60</td>\n",
       "      <td>secondary education</td>\n",
       "      <td>1</td>\n",
       "      <td>married</td>\n",
       "      <td>0</td>\n",
       "      <td>F</td>\n",
       "      <td>retiree</td>\n",
       "      <td>0</td>\n",
       "      <td>NaN</td>\n",
       "      <td>to become educated</td>\n",
       "    </tr>\n",
       "    <tr>\n",
       "      <th>21132</th>\n",
       "      <td>0</td>\n",
       "      <td>NaN</td>\n",
       "      <td>47</td>\n",
       "      <td>secondary education</td>\n",
       "      <td>1</td>\n",
       "      <td>married</td>\n",
       "      <td>0</td>\n",
       "      <td>F</td>\n",
       "      <td>employee</td>\n",
       "      <td>0</td>\n",
       "      <td>NaN</td>\n",
       "      <td>housing renovation</td>\n",
       "    </tr>\n",
       "    <tr>\n",
       "      <th>21281</th>\n",
       "      <td>1</td>\n",
       "      <td>NaN</td>\n",
       "      <td>30</td>\n",
       "      <td>bachelor's degree</td>\n",
       "      <td>0</td>\n",
       "      <td>married</td>\n",
       "      <td>0</td>\n",
       "      <td>F</td>\n",
       "      <td>employee</td>\n",
       "      <td>0</td>\n",
       "      <td>NaN</td>\n",
       "      <td>buy commercial real estate</td>\n",
       "    </tr>\n",
       "    <tr>\n",
       "      <th>21415</th>\n",
       "      <td>0</td>\n",
       "      <td>NaN</td>\n",
       "      <td>54</td>\n",
       "      <td>secondary education</td>\n",
       "      <td>1</td>\n",
       "      <td>married</td>\n",
       "      <td>0</td>\n",
       "      <td>F</td>\n",
       "      <td>retiree</td>\n",
       "      <td>0</td>\n",
       "      <td>NaN</td>\n",
       "      <td>housing transactions</td>\n",
       "    </tr>\n",
       "  </tbody>\n",
       "</table>\n",
       "<p>71 rows × 12 columns</p>\n",
       "</div>"
      ],
      "text/plain": [
       "       children  days_employed  dob_years            education  education_id  \\\n",
       "2849          0            NaN         41  secondary education             1   \n",
       "3290          0            NaN         58  secondary education             1   \n",
       "4182          1            NaN         34    bachelor's degree             0   \n",
       "4851          0            NaN         60  secondary education             1   \n",
       "5557          0            NaN         58  secondary education             1   \n",
       "...         ...            ...        ...                  ...           ...   \n",
       "20702         0            NaN         64  secondary education             1   \n",
       "21032         0            NaN         60  secondary education             1   \n",
       "21132         0            NaN         47  secondary education             1   \n",
       "21281         1            NaN         30    bachelor's degree             0   \n",
       "21415         0            NaN         54  secondary education             1   \n",
       "\n",
       "           family_status  family_status_id gender income_type  debt  \\\n",
       "2849             married                 0      F    employee     0   \n",
       "3290   civil partnership                 1      F     retiree     0   \n",
       "4182   civil partnership                 1      F    employee     0   \n",
       "4851   civil partnership                 1      F     retiree     0   \n",
       "5557   civil partnership                 1      F     retiree     0   \n",
       "...                  ...               ...    ...         ...   ...   \n",
       "20702            married                 0      F     retiree     0   \n",
       "21032            married                 0      F     retiree     0   \n",
       "21132            married                 0      F    employee     0   \n",
       "21281            married                 0      F    employee     0   \n",
       "21415            married                 0      F     retiree     0   \n",
       "\n",
       "       total_income                              purpose  \n",
       "2849            NaN  purchase of the house for my family  \n",
       "3290            NaN                    to have a wedding  \n",
       "4182            NaN                     wedding ceremony  \n",
       "4851            NaN                     wedding ceremony  \n",
       "5557            NaN                    to have a wedding  \n",
       "...             ...                                  ...  \n",
       "20702           NaN              supplementary education  \n",
       "21032           NaN                   to become educated  \n",
       "21132           NaN                   housing renovation  \n",
       "21281           NaN           buy commercial real estate  \n",
       "21415           NaN                 housing transactions  \n",
       "\n",
       "[71 rows x 12 columns]"
      ]
     },
     "execution_count": 48,
     "metadata": {},
     "output_type": "execute_result"
    }
   ],
   "source": [
    "df[df.duplicated()]"
   ]
  },
  {
   "cell_type": "code",
   "execution_count": 49,
   "metadata": {
    "ExecuteTime": {
     "end_time": "2022-12-19T17:39:42.349285Z",
     "start_time": "2022-12-19T17:39:42.325366Z"
    }
   },
   "outputs": [],
   "source": [
    "# Eliminamos los duplicados\n",
    "df = df.drop_duplicates().reset_index(drop=True)"
   ]
  },
  {
   "cell_type": "code",
   "execution_count": 50,
   "metadata": {
    "ExecuteTime": {
     "end_time": "2022-12-19T17:39:42.380789Z",
     "start_time": "2022-12-19T17:39:42.350859Z"
    }
   },
   "outputs": [
    {
     "data": {
      "text/plain": [
       "0"
      ]
     },
     "execution_count": 50,
     "metadata": {},
     "output_type": "execute_result"
    }
   ],
   "source": [
    "# comprobación duplicados\n",
    "df.duplicated().sum()"
   ]
  },
  {
   "cell_type": "code",
   "execution_count": 51,
   "metadata": {
    "ExecuteTime": {
     "end_time": "2022-12-19T17:39:42.411223Z",
     "start_time": "2022-12-19T17:39:42.382784Z"
    }
   },
   "outputs": [
    {
     "data": {
      "text/plain": [
       "children               0\n",
       "days_employed       5548\n",
       "dob_years              0\n",
       "education              0\n",
       "education_id           0\n",
       "family_status          0\n",
       "family_status_id       0\n",
       "gender                 0\n",
       "income_type            0\n",
       "debt                   0\n",
       "total_income        2103\n",
       "purpose                0\n",
       "dtype: int64"
      ]
     },
     "execution_count": 51,
     "metadata": {},
     "output_type": "execute_result"
    }
   ],
   "source": [
    "# Revisemos los NaN por columnas\n",
    "df.isna().sum()"
   ]
  },
  {
   "cell_type": "code",
   "execution_count": 52,
   "metadata": {
    "ExecuteTime": {
     "end_time": "2022-12-19T17:39:42.427180Z",
     "start_time": "2022-12-19T17:39:42.412221Z"
    }
   },
   "outputs": [
    {
     "data": {
      "text/plain": [
       "(21454, 12)"
      ]
     },
     "execution_count": 52,
     "metadata": {},
     "output_type": "execute_result"
    }
   ],
   "source": [
    "df.shape"
   ]
  },
  {
   "cell_type": "markdown",
   "metadata": {},
   "source": [
    "El conjunto de datos total disminuyó de 21525 a `21454` registros ya que se eliminaron 71 registros duplicados, representando el  0.003% de todos los datos, casi nada!.\n",
    "\n",
    "Las columnas con datos ausentes quedan así: `days_employed` 5548 NaN y `total_income` 2103 NaN."
   ]
  },
  {
   "cell_type": "markdown",
   "metadata": {},
   "source": [
    "## Trabajar con valores ausentes<a name=\"id4\"></a>"
   ]
  },
  {
   "cell_type": "markdown",
   "metadata": {},
   "source": [
    "### Restaurar valores ausentes en `total_income`<a name=\"id4.1\"></a>"
   ]
  },
  {
   "cell_type": "markdown",
   "metadata": {},
   "source": [
    "Como se indicó anteriormente, hay 2 columnas con valores ausentes que vamos a rellenar.\n",
    "\n",
    "Empezaremos abordando el total de ingresos `total_income`. Crearemos una categoría por edades de clientes, para de esta manera poder realizar más claramente nuestros análisis o revisar por grupos de edades los totales de ingresos.\n"
   ]
  },
  {
   "cell_type": "code",
   "execution_count": 53,
   "metadata": {
    "ExecuteTime": {
     "end_time": "2022-12-19T17:39:42.443139Z",
     "start_time": "2022-12-19T17:39:42.428179Z"
    }
   },
   "outputs": [
    {
     "data": {
      "text/plain": [
       "array([19, 20, 21, 22, 23, 24, 25, 26, 27, 28, 29, 30, 31, 32, 33, 34, 35,\n",
       "       36, 37, 38, 39, 40, 41, 42, 43, 44, 45, 46, 47, 48, 49, 50, 51, 52,\n",
       "       53, 54, 55, 56, 57, 58, 59, 60, 61, 62, 63, 64, 65, 66, 67, 68, 69,\n",
       "       70, 71, 72, 73, 74, 75], dtype=int64)"
      ]
     },
     "execution_count": 53,
     "metadata": {},
     "output_type": "execute_result"
    }
   ],
   "source": [
    "df.dob_years.sort_values().unique()"
   ]
  },
  {
   "cell_type": "markdown",
   "metadata": {},
   "source": [
    "-  Crearemos 4 grupos de edades:\n",
    "          Menor a 30 años\n",
    "          De 30 a 44 años\n",
    "          De 45 a 64 años\n",
    "          Mayor a 65 años"
   ]
  },
  {
   "cell_type": "code",
   "execution_count": 54,
   "metadata": {
    "ExecuteTime": {
     "end_time": "2022-12-19T17:39:42.459094Z",
     "start_time": "2022-12-19T17:39:42.444136Z"
    }
   },
   "outputs": [],
   "source": [
    "# función calcula la categoría de edad\n",
    "\n",
    "def age_group(df):\n",
    "    if (df.dob_years < 30):\n",
    "        return 'menor a 30'\n",
    "    elif (df.dob_years >= 30) & (df.dob_years < 45):\n",
    "        return '30 a 44'\n",
    "    elif (df.dob_years >= 45) & (df.dob_years < 64):\n",
    "        return '45 a 64'\n",
    "    else:\n",
    "        return 'mayor a 65'"
   ]
  },
  {
   "cell_type": "code",
   "execution_count": 55,
   "metadata": {
    "ExecuteTime": {
     "end_time": "2022-12-19T17:39:43.027402Z",
     "start_time": "2022-12-19T17:39:42.460093Z"
    }
   },
   "outputs": [
    {
     "data": {
      "text/plain": [
       "0    30 a 44\n",
       "1    30 a 44\n",
       "2    30 a 44\n",
       "3    30 a 44\n",
       "4    45 a 64\n",
       "dtype: object"
      ]
     },
     "execution_count": 55,
     "metadata": {},
     "output_type": "execute_result"
    }
   ],
   "source": [
    "# Probamos función\n",
    "df.apply(age_group, axis=1).head()"
   ]
  },
  {
   "cell_type": "code",
   "execution_count": 56,
   "metadata": {
    "ExecuteTime": {
     "end_time": "2022-12-19T17:39:43.516992Z",
     "start_time": "2022-12-19T17:39:43.028401Z"
    }
   },
   "outputs": [],
   "source": [
    "# Crear nueva columna basada en la función\n",
    "df['age_group'] = df.apply(age_group, axis=1)"
   ]
  },
  {
   "cell_type": "code",
   "execution_count": 57,
   "metadata": {
    "ExecuteTime": {
     "end_time": "2022-12-19T17:39:43.532955Z",
     "start_time": "2022-12-19T17:39:43.518995Z"
    },
    "scrolled": true
   },
   "outputs": [
    {
     "data": {
      "text/plain": [
       "30 a 44       8628\n",
       "45 a 64       8491\n",
       "menor a 30    3180\n",
       "mayor a 65    1155\n",
       "Name: age_group, dtype: int64"
      ]
     },
     "execution_count": 57,
     "metadata": {},
     "output_type": "execute_result"
    }
   ],
   "source": [
    "# Comprobar los valores en la nueva columna\n",
    "df.age_group.value_counts()"
   ]
  },
  {
   "cell_type": "code",
   "execution_count": 58,
   "metadata": {
    "ExecuteTime": {
     "end_time": "2022-12-19T17:39:43.563873Z",
     "start_time": "2022-12-19T17:39:43.534951Z"
    },
    "scrolled": true
   },
   "outputs": [
    {
     "data": {
      "text/plain": [
       "children            0\n",
       "days_employed       0\n",
       "dob_years           0\n",
       "education           0\n",
       "education_id        0\n",
       "family_status       0\n",
       "family_status_id    0\n",
       "gender              0\n",
       "income_type         0\n",
       "debt                0\n",
       "total_income        0\n",
       "purpose             0\n",
       "age_group           0\n",
       "dtype: int64"
      ]
     },
     "execution_count": 58,
     "metadata": {},
     "output_type": "execute_result"
    }
   ],
   "source": [
    "# Crea una tabla sin valores ausentes y muestra algunas de sus filas para asegurarte de que se ve bien\n",
    "\n",
    "df_nonan = df.dropna(subset=['days_employed', 'total_income'])\n",
    "df_nonan.isna().sum()"
   ]
  },
  {
   "cell_type": "code",
   "execution_count": 59,
   "metadata": {
    "ExecuteTime": {
     "end_time": "2022-12-19T17:39:43.570032Z",
     "start_time": "2022-12-19T17:39:43.564870Z"
    }
   },
   "outputs": [
    {
     "data": {
      "text/plain": [
       "(15906, 13)"
      ]
     },
     "execution_count": 59,
     "metadata": {},
     "output_type": "execute_result"
    }
   ],
   "source": [
    "df_nonan.shape"
   ]
  },
  {
   "cell_type": "code",
   "execution_count": 60,
   "metadata": {
    "ExecuteTime": {
     "end_time": "2022-12-19T17:39:43.595440Z",
     "start_time": "2022-12-19T17:39:43.570032Z"
    }
   },
   "outputs": [
    {
     "data": {
      "text/html": [
       "<div>\n",
       "<style scoped>\n",
       "    .dataframe tbody tr th:only-of-type {\n",
       "        vertical-align: middle;\n",
       "    }\n",
       "\n",
       "    .dataframe tbody tr th {\n",
       "        vertical-align: top;\n",
       "    }\n",
       "\n",
       "    .dataframe thead th {\n",
       "        text-align: right;\n",
       "    }\n",
       "</style>\n",
       "<table border=\"1\" class=\"dataframe\">\n",
       "  <thead>\n",
       "    <tr style=\"text-align: right;\">\n",
       "      <th></th>\n",
       "      <th>children</th>\n",
       "      <th>days_employed</th>\n",
       "      <th>dob_years</th>\n",
       "      <th>education</th>\n",
       "      <th>education_id</th>\n",
       "      <th>family_status</th>\n",
       "      <th>family_status_id</th>\n",
       "      <th>gender</th>\n",
       "      <th>income_type</th>\n",
       "      <th>debt</th>\n",
       "      <th>total_income</th>\n",
       "      <th>purpose</th>\n",
       "      <th>age_group</th>\n",
       "    </tr>\n",
       "  </thead>\n",
       "  <tbody>\n",
       "    <tr>\n",
       "      <th>0</th>\n",
       "      <td>1</td>\n",
       "      <td>8437.673028</td>\n",
       "      <td>42</td>\n",
       "      <td>bachelor's degree</td>\n",
       "      <td>0</td>\n",
       "      <td>married</td>\n",
       "      <td>0</td>\n",
       "      <td>F</td>\n",
       "      <td>employee</td>\n",
       "      <td>0</td>\n",
       "      <td>40620.102</td>\n",
       "      <td>purchase of the house</td>\n",
       "      <td>30 a 44</td>\n",
       "    </tr>\n",
       "    <tr>\n",
       "      <th>1</th>\n",
       "      <td>1</td>\n",
       "      <td>4024.803754</td>\n",
       "      <td>36</td>\n",
       "      <td>secondary education</td>\n",
       "      <td>1</td>\n",
       "      <td>married</td>\n",
       "      <td>0</td>\n",
       "      <td>F</td>\n",
       "      <td>employee</td>\n",
       "      <td>0</td>\n",
       "      <td>17932.802</td>\n",
       "      <td>car purchase</td>\n",
       "      <td>30 a 44</td>\n",
       "    </tr>\n",
       "    <tr>\n",
       "      <th>2</th>\n",
       "      <td>0</td>\n",
       "      <td>5623.422610</td>\n",
       "      <td>33</td>\n",
       "      <td>secondary education</td>\n",
       "      <td>1</td>\n",
       "      <td>married</td>\n",
       "      <td>0</td>\n",
       "      <td>M</td>\n",
       "      <td>employee</td>\n",
       "      <td>0</td>\n",
       "      <td>23341.752</td>\n",
       "      <td>purchase of the house</td>\n",
       "      <td>30 a 44</td>\n",
       "    </tr>\n",
       "    <tr>\n",
       "      <th>3</th>\n",
       "      <td>3</td>\n",
       "      <td>4124.747207</td>\n",
       "      <td>32</td>\n",
       "      <td>secondary education</td>\n",
       "      <td>1</td>\n",
       "      <td>married</td>\n",
       "      <td>0</td>\n",
       "      <td>M</td>\n",
       "      <td>employee</td>\n",
       "      <td>0</td>\n",
       "      <td>42820.568</td>\n",
       "      <td>supplementary education</td>\n",
       "      <td>30 a 44</td>\n",
       "    </tr>\n",
       "    <tr>\n",
       "      <th>5</th>\n",
       "      <td>0</td>\n",
       "      <td>926.185831</td>\n",
       "      <td>27</td>\n",
       "      <td>bachelor's degree</td>\n",
       "      <td>0</td>\n",
       "      <td>civil partnership</td>\n",
       "      <td>1</td>\n",
       "      <td>M</td>\n",
       "      <td>business</td>\n",
       "      <td>0</td>\n",
       "      <td>40922.170</td>\n",
       "      <td>purchase of the house</td>\n",
       "      <td>menor a 30</td>\n",
       "    </tr>\n",
       "  </tbody>\n",
       "</table>\n",
       "</div>"
      ],
      "text/plain": [
       "   children  days_employed  dob_years            education  education_id  \\\n",
       "0         1    8437.673028         42    bachelor's degree             0   \n",
       "1         1    4024.803754         36  secondary education             1   \n",
       "2         0    5623.422610         33  secondary education             1   \n",
       "3         3    4124.747207         32  secondary education             1   \n",
       "5         0     926.185831         27    bachelor's degree             0   \n",
       "\n",
       "       family_status  family_status_id gender income_type  debt  total_income  \\\n",
       "0            married                 0      F    employee     0     40620.102   \n",
       "1            married                 0      F    employee     0     17932.802   \n",
       "2            married                 0      M    employee     0     23341.752   \n",
       "3            married                 0      M    employee     0     42820.568   \n",
       "5  civil partnership                 1      M    business     0     40922.170   \n",
       "\n",
       "                   purpose   age_group  \n",
       "0    purchase of the house     30 a 44  \n",
       "1             car purchase     30 a 44  \n",
       "2    purchase of the house     30 a 44  \n",
       "3  supplementary education     30 a 44  \n",
       "5    purchase of the house  menor a 30  "
      ]
     },
     "execution_count": 60,
     "metadata": {},
     "output_type": "execute_result"
    }
   ],
   "source": [
    "df_nonan.head()"
   ]
  },
  {
   "cell_type": "markdown",
   "metadata": {},
   "source": [
    "Revisaremos la distribución de edad y eduación con los ingresos."
   ]
  },
  {
   "cell_type": "code",
   "execution_count": 61,
   "metadata": {
    "ExecuteTime": {
     "end_time": "2022-12-19T17:39:43.835388Z",
     "start_time": "2022-12-19T17:39:43.596672Z"
    }
   },
   "outputs": [
    {
     "data": {
      "text/plain": [
       "<AxesSubplot: xlabel='age_group'>"
      ]
     },
     "execution_count": 61,
     "metadata": {},
     "output_type": "execute_result"
    },
    {
     "data": {
      "image/png": "[encoded data removed]",
      "text/plain": [
       "<Figure size 1000x500 with 1 Axes>"
      ]
     },
     "metadata": {},
     "output_type": "display_data"
    }
   ],
   "source": [
    "# Revisemos la distribución de los ingresos por grupos de edad\n",
    "\n",
    "ages_income = df.groupby(['age_group']).agg({'total_income': ['mean', 'median']})\n",
    "ages_income.columns = ['mean_income', 'median_income']\n",
    "ages_income.plot(kind='bar', figsize=(10, 5), grid=True)"
   ]
  },
  {
   "cell_type": "markdown",
   "metadata": {},
   "source": [
    "Vemos que los clientes que tiene menor nivel adquisitivo son los mayores a 65 años. Por lo contrario, observamos que los clientes entre 30 a 44 años son los que tienen mayores ingresos."
   ]
  },
  {
   "cell_type": "code",
   "execution_count": 62,
   "metadata": {
    "ExecuteTime": {
     "end_time": "2022-12-19T17:39:43.993682Z",
     "start_time": "2022-12-19T17:39:43.835388Z"
    }
   },
   "outputs": [
    {
     "data": {
      "text/plain": [
       "<AxesSubplot: xlabel='education'>"
      ]
     },
     "execution_count": 62,
     "metadata": {},
     "output_type": "execute_result"
    },
    {
     "data": {
      "image/png": "[encoded data removed]",
      "text/plain": [
       "<Figure size 1000x500 with 1 Axes>"
      ]
     },
     "metadata": {},
     "output_type": "display_data"
    }
   ],
   "source": [
    "# Revisemos la distribución de los ingresos por grupos de educación\n",
    "\n",
    "education_income = df.groupby(['education']).agg({'total_income': ['mean', 'median']})\n",
    "education_income.columns = ['mean_income', 'median_income']\n",
    "education_income.plot(kind='bar', figsize=(10, 5), grid=True)"
   ]
  },
  {
   "cell_type": "markdown",
   "metadata": {},
   "source": [
    "Podemos observar que los clientes que cuentan con mayor nivel educativo (Universidad) son los que poseen los más altos de ingresos. Por lo contrario, los clientes con menos estudio (primaria y secundaria) tienen los ingresos más bajos.\n"
   ]
  },
  {
   "cell_type": "markdown",
   "metadata": {},
   "source": [
    "El total de ingresos ha de variar de acuerdo a distintos aspectos de los clientes. Podemos resumir que:\n",
    "\n",
    "Los clientes con mayores ingresos son:\n",
    "-  Aquellos que tienen entre 30 a 44 años de edad.\n",
    "-  Aquellos con mayor nivel de educación: Universidad.\n",
    "\n",
    "Los clientes con menores ingresos son:\n",
    "-  Aquellos que tienen más de 65 años de edad.\n",
    "-  Menor nivel de educación: primaria, secundaria"
   ]
  },
  {
   "cell_type": "markdown",
   "metadata": {},
   "source": [
    "Analizamos la distribución de los datos de `total_income` en el siguiente histograma:"
   ]
  },
  {
   "cell_type": "code",
   "execution_count": 63,
   "metadata": {
    "ExecuteTime": {
     "end_time": "2022-12-19T17:39:44.183325Z",
     "start_time": "2022-12-19T17:39:43.994639Z"
    },
    "scrolled": false
   },
   "outputs": [
    {
     "data": {
      "text/plain": [
       "<AxesSubplot: xlabel='total_income', ylabel='Count'>"
      ]
     },
     "execution_count": 63,
     "metadata": {},
     "output_type": "execute_result"
    },
    {
     "data": {
      "image/png": "[encoded data removed]",
      "text/plain": [
       "<Figure size 640x480 with 1 Axes>"
      ]
     },
     "metadata": {},
     "output_type": "display_data"
    }
   ],
   "source": [
    "sns.histplot(df, x='total_income', bins=60)"
   ]
  },
  {
   "cell_type": "markdown",
   "metadata": {},
   "source": [
    "Podemos observar en la distribución que existen valores atípicos, los datos cuentan con asimetría positiva cuya media es mayor que la mediana.\n",
    "\n",
    "Se decide imputar los valores ausentes de la columna `total_income` por su correspondiente mediana condicionada respecto al nivel de educación (característica analizada antes)."
   ]
  },
  {
   "cell_type": "code",
   "execution_count": 64,
   "metadata": {
    "ExecuteTime": {
     "end_time": "2022-12-19T17:39:44.194916Z",
     "start_time": "2022-12-19T17:39:44.184314Z"
    }
   },
   "outputs": [],
   "source": [
    "#  función para completar valores ausentes\n",
    "\n",
    "def fillna_total_income(row):\n",
    "    row = df.groupby(['education'])['total_income'].transform(\n",
    "        lambda x: x.fillna(x.median()))\n",
    "    return row"
   ]
  },
  {
   "cell_type": "code",
   "execution_count": 65,
   "metadata": {
    "ExecuteTime": {
     "end_time": "2022-12-19T17:39:44.215866Z",
     "start_time": "2022-12-19T17:39:44.194916Z"
    },
    "scrolled": true
   },
   "outputs": [
    {
     "data": {
      "text/plain": [
       "21836.583    1479\n",
       "28054.531     534\n",
       "25618.464      69\n",
       "18741.976      21\n",
       "Name: total_income, dtype: int64"
      ]
     },
     "execution_count": 65,
     "metadata": {},
     "output_type": "execute_result"
    }
   ],
   "source": [
    "# Comprueba que la función funciona\n",
    "\n",
    "nan_index = df[df.total_income.isna()].index\n",
    "fillna_total_income(df['total_income'])[nan_index].value_counts()"
   ]
  },
  {
   "cell_type": "code",
   "execution_count": 66,
   "metadata": {
    "ExecuteTime": {
     "end_time": "2022-12-19T17:39:44.233533Z",
     "start_time": "2022-12-19T17:39:44.217443Z"
    }
   },
   "outputs": [],
   "source": [
    "# Aplícalo la función\n",
    "df['total_income'] = fillna_total_income(df['total_income'])"
   ]
  },
  {
   "cell_type": "code",
   "execution_count": 67,
   "metadata": {
    "ExecuteTime": {
     "end_time": "2022-12-19T17:39:44.246673Z",
     "start_time": "2022-12-19T17:39:44.236192Z"
    }
   },
   "outputs": [
    {
     "data": {
      "text/plain": [
       "21836.583    1479\n",
       "28054.531     534\n",
       "25618.464      69\n",
       "18741.976      21\n",
       "Name: total_income, dtype: int64"
      ]
     },
     "execution_count": 67,
     "metadata": {},
     "output_type": "execute_result"
    }
   ],
   "source": [
    "# Comprueba los resultados\n",
    "df.total_income[nan_index].value_counts()"
   ]
  },
  {
   "cell_type": "code",
   "execution_count": 68,
   "metadata": {
    "ExecuteTime": {
     "end_time": "2022-12-19T17:39:44.273093Z",
     "start_time": "2022-12-19T17:39:44.246673Z"
    }
   },
   "outputs": [
    {
     "name": "stdout",
     "output_type": "stream",
     "text": [
      "<class 'pandas.core.frame.DataFrame'>\n",
      "RangeIndex: 21454 entries, 0 to 21453\n",
      "Data columns (total 13 columns):\n",
      " #   Column            Non-Null Count  Dtype  \n",
      "---  ------            --------------  -----  \n",
      " 0   children          21454 non-null  int64  \n",
      " 1   days_employed     15906 non-null  float64\n",
      " 2   dob_years         21454 non-null  int64  \n",
      " 3   education         21454 non-null  object \n",
      " 4   education_id      21454 non-null  int64  \n",
      " 5   family_status     21454 non-null  object \n",
      " 6   family_status_id  21454 non-null  int64  \n",
      " 7   gender            21454 non-null  object \n",
      " 8   income_type       21454 non-null  object \n",
      " 9   debt              21454 non-null  int64  \n",
      " 10  total_income      21454 non-null  float64\n",
      " 11  purpose           21454 non-null  object \n",
      " 12  age_group         21454 non-null  object \n",
      "dtypes: float64(2), int64(5), object(6)\n",
      "memory usage: 2.1+ MB\n"
     ]
    }
   ],
   "source": [
    "df.info()"
   ]
  },
  {
   "cell_type": "markdown",
   "metadata": {},
   "source": [
    "Se realizó el relleno de valores ausentes en la columna `total_income` con medianas de total de ingresos correspondiente al tipo de educación.\n",
    "\n",
    "\n",
    "* Las medianas usadas son las siguientes: \n",
    "    -  `21836.583`  total de registros asignados:       1479\n",
    "    -  `28054.531`  total de registros asignados:        534\n",
    "    -  `25618.464`  total de registros asignados:         69\n",
    "    -  `18741.976`  total de registros asignados:         21\n",
    "    \n",
    "    \n",
    "2103 registros con valores ausentes fueron rellenados."
   ]
  },
  {
   "cell_type": "markdown",
   "metadata": {},
   "source": [
    "###  Restaurar valores en `days_employed`<a name=\"id4.2\"></a>"
   ]
  },
  {
   "cell_type": "markdown",
   "metadata": {},
   "source": [
    "Revisemos la distribución de las medias y medianas de `days_employed` en función de tipo de empleado y edad."
   ]
  },
  {
   "cell_type": "code",
   "execution_count": 69,
   "metadata": {
    "ExecuteTime": {
     "end_time": "2022-12-19T17:39:44.492099Z",
     "start_time": "2022-12-19T17:39:44.274237Z"
    },
    "pycharm": {
     "name": "#%%\n"
    }
   },
   "outputs": [
    {
     "data": {
      "text/plain": [
       "<AxesSubplot: xlabel='income_type'>"
      ]
     },
     "execution_count": 69,
     "metadata": {},
     "output_type": "execute_result"
    },
    {
     "data": {
      "image/png": "[encoded data removed]",
      "text/plain": [
       "<Figure size 1000x500 with 1 Axes>"
      ]
     },
     "metadata": {},
     "output_type": "display_data"
    }
   ],
   "source": [
    "# Revisemos la distribución de días laborados por tipo de trabajo\n",
    "income_type_days = df.groupby(['income_type']).agg({'days_employed': ['mean', 'median']})\n",
    "income_type_days.columns = ['mean_income', 'median_income']\n",
    "income_type_days.plot(kind='bar', figsize=(10, 5), grid=True)"
   ]
  },
  {
   "cell_type": "markdown",
   "metadata": {},
   "source": [
    "Podemos observar que los tipos de ingresos tienen variados comportamientos respecto a dias laborados.\n",
    "-  Los paternity / maternity leave, y los civil servant, son los que tienen registrado mayores días laborados. \n",
    "-  Los entrepreneur y student tienen el más bajo número de días laborados.\n",
    "-  Los retiree y unemployed no tienen datos."
   ]
  },
  {
   "cell_type": "code",
   "execution_count": 70,
   "metadata": {
    "ExecuteTime": {
     "end_time": "2022-12-19T17:39:44.658043Z",
     "start_time": "2022-12-19T17:39:44.494099Z"
    }
   },
   "outputs": [
    {
     "data": {
      "text/plain": [
       "<AxesSubplot: xlabel='age_group'>"
      ]
     },
     "execution_count": 70,
     "metadata": {},
     "output_type": "execute_result"
    },
    {
     "data": {
      "image/png": "[encoded data removed]",
      "text/plain": [
       "<Figure size 1000x500 with 1 Axes>"
      ]
     },
     "metadata": {},
     "output_type": "display_data"
    }
   ],
   "source": [
    "# Revisemos la distribución de `days_employed` por grupos de edades\n",
    "ages_days_employed = df.groupby(['age_group']).agg({'days_employed': ['mean', 'median']})\n",
    "ages_days_employed.columns = ['mean_income', 'median_income']\n",
    "ages_days_employed.plot(kind='bar', figsize=(10, 5), grid=True)"
   ]
  },
  {
   "cell_type": "markdown",
   "metadata": {},
   "source": [
    "Podemos observar que entre mayor es la edad del cliente el número de días laborales es más alto. Por lo contrario, entre más joven es el cliente menos tiempo a trabajado."
   ]
  },
  {
   "cell_type": "markdown",
   "metadata": {},
   "source": [
    "Los días laborales `days_employed` a de variar de acuerdo a distintos aspectos de los clientes. Podemos resumir que:\n",
    "\n",
    "\n",
    "\n",
    "Los clientes con más días laborados son:\n",
    "-  Paternity / maternity leave, y Civil servant.\n",
    "-  Aquellos mayor a 65 años.\n",
    " \n",
    " \n",
    " \n",
    "Los clientes con menos días laborados son:\n",
    "-  Aquellos que son emprendedores y estudiantes \n",
    "-  Aquellos que tienen menos de 30 años."
   ]
  },
  {
   "cell_type": "markdown",
   "metadata": {},
   "source": [
    "Analizamos la distribución de los datos de `days_employed` en el siguiente histograma:"
   ]
  },
  {
   "cell_type": "code",
   "execution_count": 71,
   "metadata": {
    "ExecuteTime": {
     "end_time": "2022-12-19T17:39:44.915001Z",
     "start_time": "2022-12-19T17:39:44.660009Z"
    }
   },
   "outputs": [
    {
     "data": {
      "text/plain": [
       "<AxesSubplot: xlabel='days_employed', ylabel='Count'>"
      ]
     },
     "execution_count": 71,
     "metadata": {},
     "output_type": "execute_result"
    },
    {
     "data": {
      "image/png": "[encoded data removed]",
      "text/plain": [
       "<Figure size 640x480 with 1 Axes>"
      ]
     },
     "metadata": {},
     "output_type": "display_data"
    }
   ],
   "source": [
    "# Histograma de days_employed\n",
    "sns.histplot(df, x='days_employed')"
   ]
  },
  {
   "cell_type": "markdown",
   "metadata": {},
   "source": [
    "Podemos observar en la distribución que existen valores atípicos, los datos cuentan con asimetría positiva cuya media es mayor que la mediana.\n",
    "\n",
    "Se decide imputar los valores ausentes de la columna `days_employed` por su correspondiente mediana condicionada respecto al grupo de edades de los clientes (característica analizada antes)."
   ]
  },
  {
   "cell_type": "code",
   "execution_count": 72,
   "metadata": {
    "ExecuteTime": {
     "end_time": "2022-12-19T17:39:44.930443Z",
     "start_time": "2022-12-19T17:39:44.915983Z"
    }
   },
   "outputs": [],
   "source": [
    "# Escribamos una función que calcule medianas según el parámetro identificado\n",
    "\n",
    "def fillna_days_employed(row):\n",
    "    row = df.groupby(['age_group'])['days_employed'].transform(\n",
    "        lambda x: x.fillna(x.median()))\n",
    "    return row"
   ]
  },
  {
   "cell_type": "code",
   "execution_count": 73,
   "metadata": {
    "ExecuteTime": {
     "end_time": "2022-12-19T17:39:44.947381Z",
     "start_time": "2022-12-19T17:39:44.931234Z"
    }
   },
   "outputs": [
    {
     "data": {
      "text/plain": [
       "2254.258990    3329\n",
       "2579.458493     989\n",
       "1674.726020     927\n",
       "996.761544      303\n",
       "Name: days_employed, dtype: int64"
      ]
     },
     "execution_count": 73,
     "metadata": {},
     "output_type": "execute_result"
    }
   ],
   "source": [
    "# Comprueba que la función funciona\n",
    "\n",
    "nan_index_2 = df[df.days_employed.isna()].index\n",
    "fillna_days_employed(df['days_employed'])[nan_index_2].value_counts()"
   ]
  },
  {
   "cell_type": "code",
   "execution_count": 74,
   "metadata": {
    "ExecuteTime": {
     "end_time": "2022-12-19T17:39:44.962791Z",
     "start_time": "2022-12-19T17:39:44.947381Z"
    }
   },
   "outputs": [],
   "source": [
    "# Aplicar la función a days_employed\n",
    "df['days_employed'] = fillna_days_employed(df['days_employed'])"
   ]
  },
  {
   "cell_type": "code",
   "execution_count": 75,
   "metadata": {
    "ExecuteTime": {
     "end_time": "2022-12-19T17:39:44.979377Z",
     "start_time": "2022-12-19T17:39:44.964786Z"
    }
   },
   "outputs": [
    {
     "data": {
      "text/plain": [
       "2254.258990    3329\n",
       "2579.458493     989\n",
       "1674.726020     927\n",
       "996.761544      303\n",
       "Name: days_employed, dtype: int64"
      ]
     },
     "execution_count": 75,
     "metadata": {},
     "output_type": "execute_result"
    }
   ],
   "source": [
    "# Comprueba si la función funcionó\n",
    "df.days_employed[nan_index_2].value_counts()"
   ]
  },
  {
   "cell_type": "code",
   "execution_count": 76,
   "metadata": {
    "ExecuteTime": {
     "end_time": "2022-12-19T17:39:45.004970Z",
     "start_time": "2022-12-19T17:39:44.979377Z"
    }
   },
   "outputs": [
    {
     "name": "stdout",
     "output_type": "stream",
     "text": [
      "<class 'pandas.core.frame.DataFrame'>\n",
      "RangeIndex: 21454 entries, 0 to 21453\n",
      "Data columns (total 13 columns):\n",
      " #   Column            Non-Null Count  Dtype  \n",
      "---  ------            --------------  -----  \n",
      " 0   children          21454 non-null  int64  \n",
      " 1   days_employed     21454 non-null  float64\n",
      " 2   dob_years         21454 non-null  int64  \n",
      " 3   education         21454 non-null  object \n",
      " 4   education_id      21454 non-null  int64  \n",
      " 5   family_status     21454 non-null  object \n",
      " 6   family_status_id  21454 non-null  int64  \n",
      " 7   gender            21454 non-null  object \n",
      " 8   income_type       21454 non-null  object \n",
      " 9   debt              21454 non-null  int64  \n",
      " 10  total_income      21454 non-null  float64\n",
      " 11  purpose           21454 non-null  object \n",
      " 12  age_group         21454 non-null  object \n",
      "dtypes: float64(2), int64(5), object(6)\n",
      "memory usage: 2.1+ MB\n"
     ]
    }
   ],
   "source": [
    "df.info()"
   ]
  },
  {
   "cell_type": "markdown",
   "metadata": {},
   "source": [
    "Se realizó el relleno de valores ausentes en la columna `days_employed` con la mediana de days_employed condicionada de acuerdo al grupo de edad.\n",
    "\n",
    "\n",
    "* Las medianas usadas son las siguientes:   \n",
    "    -  `2254.258990`   total de registros asignados:  3329\n",
    "    -  `2579.458493`   total de registros asignados:   989\n",
    "    -  `1674.726020`   total de registros asignados:   927\n",
    "    -  `996.761544`    total de registros asignados:   303\n",
    "\n",
    "\n",
    "Se rellenaron 5548 registros NaN en la columna days_employed. Finalmente, nuestro dataset ya no cuenta con valores ausentes."
   ]
  },
  {
   "cell_type": "markdown",
   "metadata": {},
   "source": [
    "## Clasificación de datos<a name=\"id5\"></a>\n",
    "\n",
    "Para encontrar los datos relevantes y mejorar el análisis en las hipótesis, crearemos varias categorias organizando los datos de acuerdo a:\n",
    "-   su propósito, \n",
    "-   número de hijos,\n",
    "-   rangos de ingresos salariales."
   ]
  },
  {
   "cell_type": "code",
   "execution_count": 77,
   "metadata": {
    "ExecuteTime": {
     "end_time": "2022-12-19T17:39:45.020130Z",
     "start_time": "2022-12-19T17:39:45.004970Z"
    },
    "scrolled": true
   },
   "outputs": [
    {
     "data": {
      "text/plain": [
       "wedding ceremony                            791\n",
       "having a wedding                            768\n",
       "to have a wedding                           765\n",
       "real estate transactions                    675\n",
       "buy commercial real estate                  661\n",
       "housing transactions                        652\n",
       "buying property for renting out             651\n",
       "transactions with commercial real estate    650\n",
       "purchase of the house                       646\n",
       "housing                                     646\n",
       "purchase of the house for my family         638\n",
       "construction of own property                635\n",
       "property                                    633\n",
       "transactions with my real estate            627\n",
       "building a real estate                      624\n",
       "buy real estate                             621\n",
       "purchase of my own house                    620\n",
       "building a property                         619\n",
       "housing renovation                          607\n",
       "buy residential real estate                 606\n",
       "buying my own car                           505\n",
       "going to university                         496\n",
       "car                                         494\n",
       "second-hand car purchase                    486\n",
       "to own a car                                478\n",
       "buying a second-hand car                    478\n",
       "cars                                        478\n",
       "to buy a car                                471\n",
       "car purchase                                461\n",
       "supplementary education                     460\n",
       "purchase of a car                           455\n",
       "university education                        452\n",
       "education                                   447\n",
       "to get a supplementary education            446\n",
       "getting an education                        442\n",
       "profile education                           436\n",
       "getting higher education                    426\n",
       "to become educated                          408\n",
       "Name: purpose, dtype: int64"
      ]
     },
     "execution_count": 77,
     "metadata": {},
     "output_type": "execute_result"
    }
   ],
   "source": [
    "# Propósitos:\n",
    "df.purpose.value_counts()"
   ]
  },
  {
   "cell_type": "markdown",
   "metadata": {},
   "source": [
    "-  Comprobemos los valores únicos:"
   ]
  },
  {
   "cell_type": "code",
   "execution_count": 78,
   "metadata": {
    "ExecuteTime": {
     "end_time": "2022-12-19T17:39:45.034731Z",
     "start_time": "2022-12-19T17:39:45.021128Z"
    }
   },
   "outputs": [
    {
     "data": {
      "text/plain": [
       "array(['purchase of the house', 'car purchase', 'supplementary education',\n",
       "       'to have a wedding', 'housing transactions', 'education',\n",
       "       'having a wedding', 'purchase of the house for my family',\n",
       "       'buy real estate', 'buy commercial real estate',\n",
       "       'buy residential real estate', 'construction of own property',\n",
       "       'property', 'building a property', 'buying a second-hand car',\n",
       "       'buying my own car', 'transactions with commercial real estate',\n",
       "       'building a real estate', 'housing',\n",
       "       'transactions with my real estate', 'cars', 'to become educated',\n",
       "       'second-hand car purchase', 'getting an education', 'car',\n",
       "       'wedding ceremony', 'to get a supplementary education',\n",
       "       'purchase of my own house', 'real estate transactions',\n",
       "       'getting higher education', 'to own a car', 'purchase of a car',\n",
       "       'profile education', 'university education',\n",
       "       'buying property for renting out', 'to buy a car',\n",
       "       'housing renovation', 'going to university'], dtype=object)"
      ]
     },
     "execution_count": 78,
     "metadata": {},
     "output_type": "execute_result"
    }
   ],
   "source": [
    "# Comprobar los valores únicos\n",
    "df.purpose.unique()"
   ]
  },
  {
   "cell_type": "markdown",
   "metadata": {},
   "source": [
    "-  Los grupos principales identificados en función de los valores únicos son:\n",
    "        house\n",
    "        real estate\n",
    "        car\n",
    "        education\n",
    "        wedding\n",
    "        "
   ]
  },
  {
   "cell_type": "code",
   "execution_count": 79,
   "metadata": {
    "ExecuteTime": {
     "end_time": "2022-12-19T17:39:45.050476Z",
     "start_time": "2022-12-19T17:39:45.034731Z"
    }
   },
   "outputs": [],
   "source": [
    "# función para clasificar los propósitos identificados\n",
    "\n",
    "def purpose_group(row_purpose):\n",
    "    if ('house' in row_purpose) or ('housing' in row_purpose) or ('property' in row_purpose):\n",
    "        return 'house'\n",
    "    if 'real estate' in row_purpose:\n",
    "        return 'real estate'\n",
    "    if 'car' in row_purpose:\n",
    "        return 'car'\n",
    "    if ('educat' in row_purpose) or ('university' in row_purpose):\n",
    "        return 'education'\n",
    "    if 'wedding' in row_purpose:\n",
    "        return 'wedding'\n",
    "    else:\n",
    "        return 'other'"
   ]
  },
  {
   "cell_type": "code",
   "execution_count": 80,
   "metadata": {
    "ExecuteTime": {
     "end_time": "2022-12-19T17:39:45.063885Z",
     "start_time": "2022-12-19T17:39:45.051472Z"
    }
   },
   "outputs": [],
   "source": [
    "# nueva columna purpose_group\n",
    "df['purpose_group'] = df.purpose.apply(purpose_group)"
   ]
  },
  {
   "cell_type": "code",
   "execution_count": 81,
   "metadata": {
    "ExecuteTime": {
     "end_time": "2022-12-19T17:39:45.079407Z",
     "start_time": "2022-12-19T17:39:45.063885Z"
    }
   },
   "outputs": [
    {
     "data": {
      "text/plain": [
       "house          6347\n",
       "real estate    4464\n",
       "car            4306\n",
       "education      4013\n",
       "wedding        2324\n",
       "Name: purpose_group, dtype: int64"
      ]
     },
     "execution_count": 81,
     "metadata": {},
     "output_type": "execute_result"
    }
   ],
   "source": [
    "df.purpose_group.value_counts()"
   ]
  },
  {
   "cell_type": "code",
   "execution_count": 82,
   "metadata": {
    "ExecuteTime": {
     "end_time": "2022-12-19T17:39:45.108751Z",
     "start_time": "2022-12-19T17:39:45.088383Z"
    }
   },
   "outputs": [
    {
     "data": {
      "text/plain": [
       "count     21454.000000\n",
       "mean      26466.156267\n",
       "std       15701.145024\n",
       "min        3306.762000\n",
       "25%       17219.817250\n",
       "50%       22583.630500\n",
       "75%       31330.237250\n",
       "max      362496.645000\n",
       "Name: total_income, dtype: float64"
      ]
     },
     "execution_count": 82,
     "metadata": {},
     "output_type": "execute_result"
    }
   ],
   "source": [
    "# Rangos salariales\n",
    "df.total_income.describe()"
   ]
  },
  {
   "cell_type": "markdown",
   "metadata": {},
   "source": [
    "Se realizará una segmentación de ingresos con los siguientes rangos salariales:\n",
    "\n",
    "-  less 15K\n",
    "-  15k - 20k\n",
    "-  20k - 30k\n",
    "-  more 30k\n"
   ]
  },
  {
   "cell_type": "code",
   "execution_count": 83,
   "metadata": {
    "ExecuteTime": {
     "end_time": "2022-12-19T17:39:45.125855Z",
     "start_time": "2022-12-19T17:39:45.109749Z"
    }
   },
   "outputs": [],
   "source": [
    "# función para clasificar nivel de ingresos\n",
    "\n",
    "def income_group(income):\n",
    "    if income < 15000:\n",
    "        return 'less 15k'\n",
    "    if 15000 <= income < 20000:\n",
    "        return '15k - 20k'\n",
    "    if 20000 <= income < 30000:\n",
    "        return '20k - 30k'\n",
    "    else:\n",
    "        return 'more 30k'"
   ]
  },
  {
   "cell_type": "code",
   "execution_count": 84,
   "metadata": {
    "ExecuteTime": {
     "end_time": "2022-12-19T17:39:45.141816Z",
     "start_time": "2022-12-19T17:39:45.127854Z"
    }
   },
   "outputs": [],
   "source": [
    "# nueva columna children_group\n",
    "\n",
    "df['income_group'] = df.total_income.apply(income_group)"
   ]
  },
  {
   "cell_type": "code",
   "execution_count": 85,
   "metadata": {
    "ExecuteTime": {
     "end_time": "2022-12-19T17:39:45.162817Z",
     "start_time": "2022-12-19T17:39:45.142813Z"
    }
   },
   "outputs": [
    {
     "data": {
      "text/plain": [
       "20k - 30k    8145\n",
       "more 30k     5919\n",
       "less 15k     3743\n",
       "15k - 20k    3647\n",
       "Name: income_group, dtype: int64"
      ]
     },
     "execution_count": 85,
     "metadata": {},
     "output_type": "execute_result"
    }
   ],
   "source": [
    "df.income_group.value_counts()"
   ]
  },
  {
   "cell_type": "code",
   "execution_count": 86,
   "metadata": {
    "ExecuteTime": {
     "end_time": "2022-12-19T17:39:45.178441Z",
     "start_time": "2022-12-19T17:39:45.163814Z"
    }
   },
   "outputs": [
    {
     "data": {
      "text/html": [
       "<div>\n",
       "<style scoped>\n",
       "    .dataframe tbody tr th:only-of-type {\n",
       "        vertical-align: middle;\n",
       "    }\n",
       "\n",
       "    .dataframe tbody tr th {\n",
       "        vertical-align: top;\n",
       "    }\n",
       "\n",
       "    .dataframe thead th {\n",
       "        text-align: right;\n",
       "    }\n",
       "</style>\n",
       "<table border=\"1\" class=\"dataframe\">\n",
       "  <thead>\n",
       "    <tr style=\"text-align: right;\">\n",
       "      <th></th>\n",
       "      <th>children</th>\n",
       "      <th>days_employed</th>\n",
       "      <th>dob_years</th>\n",
       "      <th>education</th>\n",
       "      <th>education_id</th>\n",
       "      <th>family_status</th>\n",
       "      <th>family_status_id</th>\n",
       "      <th>gender</th>\n",
       "      <th>income_type</th>\n",
       "      <th>debt</th>\n",
       "      <th>total_income</th>\n",
       "      <th>purpose</th>\n",
       "      <th>age_group</th>\n",
       "      <th>purpose_group</th>\n",
       "      <th>income_group</th>\n",
       "    </tr>\n",
       "  </thead>\n",
       "  <tbody>\n",
       "    <tr>\n",
       "      <th>0</th>\n",
       "      <td>1</td>\n",
       "      <td>8437.673028</td>\n",
       "      <td>42</td>\n",
       "      <td>bachelor's degree</td>\n",
       "      <td>0</td>\n",
       "      <td>married</td>\n",
       "      <td>0</td>\n",
       "      <td>F</td>\n",
       "      <td>employee</td>\n",
       "      <td>0</td>\n",
       "      <td>40620.102</td>\n",
       "      <td>purchase of the house</td>\n",
       "      <td>30 a 44</td>\n",
       "      <td>house</td>\n",
       "      <td>more 30k</td>\n",
       "    </tr>\n",
       "    <tr>\n",
       "      <th>1</th>\n",
       "      <td>1</td>\n",
       "      <td>4024.803754</td>\n",
       "      <td>36</td>\n",
       "      <td>secondary education</td>\n",
       "      <td>1</td>\n",
       "      <td>married</td>\n",
       "      <td>0</td>\n",
       "      <td>F</td>\n",
       "      <td>employee</td>\n",
       "      <td>0</td>\n",
       "      <td>17932.802</td>\n",
       "      <td>car purchase</td>\n",
       "      <td>30 a 44</td>\n",
       "      <td>car</td>\n",
       "      <td>15k - 20k</td>\n",
       "    </tr>\n",
       "    <tr>\n",
       "      <th>2</th>\n",
       "      <td>0</td>\n",
       "      <td>5623.422610</td>\n",
       "      <td>33</td>\n",
       "      <td>secondary education</td>\n",
       "      <td>1</td>\n",
       "      <td>married</td>\n",
       "      <td>0</td>\n",
       "      <td>M</td>\n",
       "      <td>employee</td>\n",
       "      <td>0</td>\n",
       "      <td>23341.752</td>\n",
       "      <td>purchase of the house</td>\n",
       "      <td>30 a 44</td>\n",
       "      <td>house</td>\n",
       "      <td>20k - 30k</td>\n",
       "    </tr>\n",
       "    <tr>\n",
       "      <th>3</th>\n",
       "      <td>3</td>\n",
       "      <td>4124.747207</td>\n",
       "      <td>32</td>\n",
       "      <td>secondary education</td>\n",
       "      <td>1</td>\n",
       "      <td>married</td>\n",
       "      <td>0</td>\n",
       "      <td>M</td>\n",
       "      <td>employee</td>\n",
       "      <td>0</td>\n",
       "      <td>42820.568</td>\n",
       "      <td>supplementary education</td>\n",
       "      <td>30 a 44</td>\n",
       "      <td>education</td>\n",
       "      <td>more 30k</td>\n",
       "    </tr>\n",
       "    <tr>\n",
       "      <th>4</th>\n",
       "      <td>0</td>\n",
       "      <td>2254.258990</td>\n",
       "      <td>53</td>\n",
       "      <td>secondary education</td>\n",
       "      <td>1</td>\n",
       "      <td>civil partnership</td>\n",
       "      <td>1</td>\n",
       "      <td>F</td>\n",
       "      <td>retiree</td>\n",
       "      <td>0</td>\n",
       "      <td>25378.572</td>\n",
       "      <td>to have a wedding</td>\n",
       "      <td>45 a 64</td>\n",
       "      <td>wedding</td>\n",
       "      <td>20k - 30k</td>\n",
       "    </tr>\n",
       "    <tr>\n",
       "      <th>5</th>\n",
       "      <td>0</td>\n",
       "      <td>926.185831</td>\n",
       "      <td>27</td>\n",
       "      <td>bachelor's degree</td>\n",
       "      <td>0</td>\n",
       "      <td>civil partnership</td>\n",
       "      <td>1</td>\n",
       "      <td>M</td>\n",
       "      <td>business</td>\n",
       "      <td>0</td>\n",
       "      <td>40922.170</td>\n",
       "      <td>purchase of the house</td>\n",
       "      <td>menor a 30</td>\n",
       "      <td>house</td>\n",
       "      <td>more 30k</td>\n",
       "    </tr>\n",
       "    <tr>\n",
       "      <th>6</th>\n",
       "      <td>0</td>\n",
       "      <td>2879.202052</td>\n",
       "      <td>43</td>\n",
       "      <td>bachelor's degree</td>\n",
       "      <td>0</td>\n",
       "      <td>married</td>\n",
       "      <td>0</td>\n",
       "      <td>F</td>\n",
       "      <td>business</td>\n",
       "      <td>0</td>\n",
       "      <td>38484.156</td>\n",
       "      <td>housing transactions</td>\n",
       "      <td>30 a 44</td>\n",
       "      <td>house</td>\n",
       "      <td>more 30k</td>\n",
       "    </tr>\n",
       "    <tr>\n",
       "      <th>7</th>\n",
       "      <td>0</td>\n",
       "      <td>152.779569</td>\n",
       "      <td>50</td>\n",
       "      <td>secondary education</td>\n",
       "      <td>1</td>\n",
       "      <td>married</td>\n",
       "      <td>0</td>\n",
       "      <td>M</td>\n",
       "      <td>employee</td>\n",
       "      <td>0</td>\n",
       "      <td>21731.829</td>\n",
       "      <td>education</td>\n",
       "      <td>45 a 64</td>\n",
       "      <td>education</td>\n",
       "      <td>20k - 30k</td>\n",
       "    </tr>\n",
       "    <tr>\n",
       "      <th>8</th>\n",
       "      <td>2</td>\n",
       "      <td>6929.865299</td>\n",
       "      <td>35</td>\n",
       "      <td>bachelor's degree</td>\n",
       "      <td>0</td>\n",
       "      <td>civil partnership</td>\n",
       "      <td>1</td>\n",
       "      <td>F</td>\n",
       "      <td>employee</td>\n",
       "      <td>0</td>\n",
       "      <td>15337.093</td>\n",
       "      <td>having a wedding</td>\n",
       "      <td>30 a 44</td>\n",
       "      <td>wedding</td>\n",
       "      <td>15k - 20k</td>\n",
       "    </tr>\n",
       "    <tr>\n",
       "      <th>9</th>\n",
       "      <td>0</td>\n",
       "      <td>2188.756445</td>\n",
       "      <td>41</td>\n",
       "      <td>secondary education</td>\n",
       "      <td>1</td>\n",
       "      <td>married</td>\n",
       "      <td>0</td>\n",
       "      <td>M</td>\n",
       "      <td>employee</td>\n",
       "      <td>0</td>\n",
       "      <td>23108.150</td>\n",
       "      <td>purchase of the house for my family</td>\n",
       "      <td>30 a 44</td>\n",
       "      <td>house</td>\n",
       "      <td>20k - 30k</td>\n",
       "    </tr>\n",
       "  </tbody>\n",
       "</table>\n",
       "</div>"
      ],
      "text/plain": [
       "   children  days_employed  dob_years            education  education_id  \\\n",
       "0         1    8437.673028         42    bachelor's degree             0   \n",
       "1         1    4024.803754         36  secondary education             1   \n",
       "2         0    5623.422610         33  secondary education             1   \n",
       "3         3    4124.747207         32  secondary education             1   \n",
       "4         0    2254.258990         53  secondary education             1   \n",
       "5         0     926.185831         27    bachelor's degree             0   \n",
       "6         0    2879.202052         43    bachelor's degree             0   \n",
       "7         0     152.779569         50  secondary education             1   \n",
       "8         2    6929.865299         35    bachelor's degree             0   \n",
       "9         0    2188.756445         41  secondary education             1   \n",
       "\n",
       "       family_status  family_status_id gender income_type  debt  total_income  \\\n",
       "0            married                 0      F    employee     0     40620.102   \n",
       "1            married                 0      F    employee     0     17932.802   \n",
       "2            married                 0      M    employee     0     23341.752   \n",
       "3            married                 0      M    employee     0     42820.568   \n",
       "4  civil partnership                 1      F     retiree     0     25378.572   \n",
       "5  civil partnership                 1      M    business     0     40922.170   \n",
       "6            married                 0      F    business     0     38484.156   \n",
       "7            married                 0      M    employee     0     21731.829   \n",
       "8  civil partnership                 1      F    employee     0     15337.093   \n",
       "9            married                 0      M    employee     0     23108.150   \n",
       "\n",
       "                               purpose   age_group purpose_group income_group  \n",
       "0                purchase of the house     30 a 44         house     more 30k  \n",
       "1                         car purchase     30 a 44           car    15k - 20k  \n",
       "2                purchase of the house     30 a 44         house    20k - 30k  \n",
       "3              supplementary education     30 a 44     education     more 30k  \n",
       "4                    to have a wedding     45 a 64       wedding    20k - 30k  \n",
       "5                purchase of the house  menor a 30         house     more 30k  \n",
       "6                 housing transactions     30 a 44         house     more 30k  \n",
       "7                            education     45 a 64     education    20k - 30k  \n",
       "8                     having a wedding     30 a 44       wedding    15k - 20k  \n",
       "9  purchase of the house for my family     30 a 44         house    20k - 30k  "
      ]
     },
     "execution_count": 86,
     "metadata": {},
     "output_type": "execute_result"
    }
   ],
   "source": [
    "df.head(10)"
   ]
  },
  {
   "cell_type": "markdown",
   "metadata": {},
   "source": [
    "Se crearon 2 columnas donde se categorizaron los datos por propósito, número de hijos y los rangos salariales. Las columnas creadas fueron: `purpose_group` e `income_group`.\n",
    "\n",
    "La categorización de los registros se realizó de la siguiente manera:\n",
    "* `purpose_group`\n",
    "                house          6347\n",
    "                real estate    4464\n",
    "                car            4306\n",
    "                education      4013\n",
    "                wedding        2324   \n",
    "    \n",
    "* `income_group`\n",
    "               20k - 30k     8145\n",
    "                more 30k     5919\n",
    "                less 15k     3743\n",
    "                15k - 20k    3647"
   ]
  },
  {
   "cell_type": "markdown",
   "metadata": {},
   "source": [
    "## Comprobación de las hipótesis<a name=\"id6\"></a>\n"
   ]
  },
  {
   "cell_type": "code",
   "execution_count": 87,
   "metadata": {
    "ExecuteTime": {
     "end_time": "2022-12-19T17:39:45.185903Z",
     "start_time": "2022-12-19T17:39:45.179437Z"
    }
   },
   "outputs": [
    {
     "name": "stdout",
     "output_type": "stream",
     "text": [
      " 8.12%\n"
     ]
    }
   ],
   "source": [
    "total_debt = (df.debt.value_counts()/len(df))[1]\n",
    "print(f' {total_debt:.2%}')"
   ]
  },
  {
   "cell_type": "markdown",
   "metadata": {},
   "source": [
    "El total de clientes que incumplieron a tiempo el pago de sus préstamos es del 8.12%. Ahora revisemos la correlación de pagar o no a tiempo sus préstamos con número de hijos, estado familiar, rango salarial y propósito del préstamo."
   ]
  },
  {
   "cell_type": "markdown",
   "metadata": {},
   "source": [
    "**¿Existe una correlación entre tener hijos y pagar a tiempo?**"
   ]
  },
  {
   "cell_type": "code",
   "execution_count": 88,
   "metadata": {
    "ExecuteTime": {
     "end_time": "2022-12-19T17:39:45.254457Z",
     "start_time": "2022-12-19T17:39:45.185903Z"
    }
   },
   "outputs": [
    {
     "data": {
      "text/html": [
       "<style type=\"text/css\">\n",
       "#T_19682_row0_col0 {\n",
       "  width: 10em;\n",
       "  background: linear-gradient(90deg, #99EBB8 0.4%, transparent 0.4%);\n",
       "}\n",
       "#T_19682_row0_col1, #T_19682_row4_col0 {\n",
       "  width: 10em;\n",
       "  background: linear-gradient(90deg, #99EBB8 100.0%, transparent 100.0%);\n",
       "}\n",
       "#T_19682_row1_col0 {\n",
       "  width: 10em;\n",
       "  background: linear-gradient(90deg, #99EBB8 18.1%, transparent 18.1%);\n",
       "}\n",
       "#T_19682_row1_col1 {\n",
       "  width: 10em;\n",
       "  background: linear-gradient(90deg, #99EBB8 96.8%, transparent 96.8%);\n",
       "}\n",
       "#T_19682_row2_col0 {\n",
       "  width: 10em;\n",
       "  background: linear-gradient(90deg, #99EBB8 41.4%, transparent 41.4%);\n",
       "}\n",
       "#T_19682_row2_col1 {\n",
       "  width: 10em;\n",
       "  background: linear-gradient(90deg, #99EBB8 94.6%, transparent 94.6%);\n",
       "}\n",
       "#T_19682_row3_col0 {\n",
       "  width: 10em;\n",
       "  background: linear-gradient(90deg, #99EBB8 2.5%, transparent 2.5%);\n",
       "}\n",
       "#T_19682_row3_col1 {\n",
       "  width: 10em;\n",
       "  background: linear-gradient(90deg, #99EBB8 83.8%, transparent 83.8%);\n",
       "}\n",
       "#T_19682_row4_col1 {\n",
       "  width: 10em;\n",
       "  background: linear-gradient(90deg, #99EBB8 77.3%, transparent 77.3%);\n",
       "}\n",
       "#T_19682_row5_col0, #T_19682_row5_col1 {\n",
       "  width: 10em;\n",
       "}\n",
       "</style>\n",
       "<table id=\"T_19682\">\n",
       "  <thead>\n",
       "    <tr>\n",
       "      <th class=\"blank level0\" >&nbsp;</th>\n",
       "      <th id=\"T_19682_level0_col0\" class=\"col_heading level0 col0\" >debt</th>\n",
       "      <th id=\"T_19682_level0_col1\" class=\"col_heading level0 col1\" >debt_%</th>\n",
       "    </tr>\n",
       "    <tr>\n",
       "      <th class=\"index_name level0\" >children</th>\n",
       "      <th class=\"blank col0\" >&nbsp;</th>\n",
       "      <th class=\"blank col1\" >&nbsp;</th>\n",
       "    </tr>\n",
       "  </thead>\n",
       "  <tbody>\n",
       "    <tr>\n",
       "      <th id=\"T_19682_level0_row0\" class=\"row_heading level0 row0\" >4</th>\n",
       "      <td id=\"T_19682_row0_col0\" class=\"data row0 col0\" >4</td>\n",
       "      <td id=\"T_19682_row0_col1\" class=\"data row0 col1\" >9.760000</td>\n",
       "    </tr>\n",
       "    <tr>\n",
       "      <th id=\"T_19682_level0_row1\" class=\"row_heading level0 row1\" >2</th>\n",
       "      <td id=\"T_19682_row1_col0\" class=\"data row1 col0\" >194</td>\n",
       "      <td id=\"T_19682_row1_col1\" class=\"data row1 col1\" >9.450000</td>\n",
       "    </tr>\n",
       "    <tr>\n",
       "      <th id=\"T_19682_level0_row2\" class=\"row_heading level0 row2\" >1</th>\n",
       "      <td id=\"T_19682_row2_col0\" class=\"data row2 col0\" >444</td>\n",
       "      <td id=\"T_19682_row2_col1\" class=\"data row2 col1\" >9.230000</td>\n",
       "    </tr>\n",
       "    <tr>\n",
       "      <th id=\"T_19682_level0_row3\" class=\"row_heading level0 row3\" >3</th>\n",
       "      <td id=\"T_19682_row3_col0\" class=\"data row3 col0\" >27</td>\n",
       "      <td id=\"T_19682_row3_col1\" class=\"data row3 col1\" >8.180000</td>\n",
       "    </tr>\n",
       "    <tr>\n",
       "      <th id=\"T_19682_level0_row4\" class=\"row_heading level0 row4\" >0</th>\n",
       "      <td id=\"T_19682_row4_col0\" class=\"data row4 col0\" >1072</td>\n",
       "      <td id=\"T_19682_row4_col1\" class=\"data row4 col1\" >7.540000</td>\n",
       "    </tr>\n",
       "    <tr>\n",
       "      <th id=\"T_19682_level0_row5\" class=\"row_heading level0 row5\" >5</th>\n",
       "      <td id=\"T_19682_row5_col0\" class=\"data row5 col0\" >0</td>\n",
       "      <td id=\"T_19682_row5_col1\" class=\"data row5 col1\" >0.000000</td>\n",
       "    </tr>\n",
       "  </tbody>\n",
       "</table>\n"
      ],
      "text/plain": [
       "<pandas.io.formats.style.Styler at 0x1b4dc9f2130>"
      ]
     },
     "execution_count": 88,
     "metadata": {},
     "output_type": "execute_result"
    }
   ],
   "source": [
    "# Comprueba los datos sobre los hijos y los pagos puntuales\n",
    "\n",
    "# Total de clientes por hijos\n",
    "total_children_group = df['children'].value_counts()\n",
    "\n",
    "children_debt = df.groupby('children').agg({'debt': 'sum'})\n",
    "\n",
    "# Calcula la tasa de incumplimiento en función del número de hijos\n",
    "children_debt['debt_%'] = ((children_debt['debt'] / total_children_group)*100).round(2)\n",
    "\n",
    "# ... ordenamos de mayor a menor\n",
    "children_debt.sort_values(by='debt_%', ascending=False, inplace=True)\n",
    "\n",
    "# ... mostremos\n",
    "children_debt.style.bar(color='#99EBB8')\n",
    "\n",
    "#children_debt.plot(kind='bar', figsize=(10, 5), grid=True)"
   ]
  },
  {
   "cell_type": "code",
   "execution_count": 89,
   "metadata": {
    "ExecuteTime": {
     "end_time": "2022-12-19T17:39:45.270414Z",
     "start_time": "2022-12-19T17:39:45.255454Z"
    }
   },
   "outputs": [
    {
     "data": {
      "text/plain": [
       "0.02"
      ]
     },
     "execution_count": 89,
     "metadata": {},
     "output_type": "execute_result"
    }
   ],
   "source": [
    "df.debt.corr(df.children).round(2)"
   ]
  },
  {
   "cell_type": "markdown",
   "metadata": {},
   "source": [
    "**¿Existe una correlación entre la situación familiar y el pago a tiempo?**"
   ]
  },
  {
   "cell_type": "code",
   "execution_count": 90,
   "metadata": {
    "ExecuteTime": {
     "end_time": "2022-12-19T17:39:45.300828Z",
     "start_time": "2022-12-19T17:39:45.272408Z"
    }
   },
   "outputs": [
    {
     "data": {
      "text/html": [
       "<style type=\"text/css\">\n",
       "#T_785a5_row0_col0 {\n",
       "  width: 10em;\n",
       "  background: linear-gradient(90deg, #99EBB8 29.4%, transparent 29.4%);\n",
       "}\n",
       "#T_785a5_row0_col1, #T_785a5_row2_col0 {\n",
       "  width: 10em;\n",
       "  background: linear-gradient(90deg, #99EBB8 100.0%, transparent 100.0%);\n",
       "}\n",
       "#T_785a5_row1_col0 {\n",
       "  width: 10em;\n",
       "  background: linear-gradient(90deg, #99EBB8 41.7%, transparent 41.7%);\n",
       "}\n",
       "#T_785a5_row1_col1 {\n",
       "  width: 10em;\n",
       "  background: linear-gradient(90deg, #99EBB8 95.9%, transparent 95.9%);\n",
       "}\n",
       "#T_785a5_row2_col1 {\n",
       "  width: 10em;\n",
       "  background: linear-gradient(90deg, #99EBB8 77.4%, transparent 77.4%);\n",
       "}\n",
       "#T_785a5_row3_col0 {\n",
       "  width: 10em;\n",
       "  background: linear-gradient(90deg, #99EBB8 9.1%, transparent 9.1%);\n",
       "}\n",
       "#T_785a5_row3_col1 {\n",
       "  width: 10em;\n",
       "  background: linear-gradient(90deg, #99EBB8 72.9%, transparent 72.9%);\n",
       "}\n",
       "#T_785a5_row4_col0 {\n",
       "  width: 10em;\n",
       "  background: linear-gradient(90deg, #99EBB8 6.8%, transparent 6.8%);\n",
       "}\n",
       "#T_785a5_row4_col1 {\n",
       "  width: 10em;\n",
       "  background: linear-gradient(90deg, #99EBB8 67.4%, transparent 67.4%);\n",
       "}\n",
       "</style>\n",
       "<table id=\"T_785a5\">\n",
       "  <thead>\n",
       "    <tr>\n",
       "      <th class=\"blank level0\" >&nbsp;</th>\n",
       "      <th id=\"T_785a5_level0_col0\" class=\"col_heading level0 col0\" >debt</th>\n",
       "      <th id=\"T_785a5_level0_col1\" class=\"col_heading level0 col1\" >debt_%</th>\n",
       "    </tr>\n",
       "    <tr>\n",
       "      <th class=\"index_name level0\" >family_status</th>\n",
       "      <th class=\"blank col0\" >&nbsp;</th>\n",
       "      <th class=\"blank col1\" >&nbsp;</th>\n",
       "    </tr>\n",
       "  </thead>\n",
       "  <tbody>\n",
       "    <tr>\n",
       "      <th id=\"T_785a5_level0_row0\" class=\"row_heading level0 row0\" >unmarried</th>\n",
       "      <td id=\"T_785a5_row0_col0\" class=\"data row0 col0\" >274</td>\n",
       "      <td id=\"T_785a5_row0_col1\" class=\"data row0 col1\" >9.750890</td>\n",
       "    </tr>\n",
       "    <tr>\n",
       "      <th id=\"T_785a5_level0_row1\" class=\"row_heading level0 row1\" >civil partnership</th>\n",
       "      <td id=\"T_785a5_row1_col0\" class=\"data row1 col0\" >388</td>\n",
       "      <td id=\"T_785a5_row1_col1\" class=\"data row1 col1\" >9.347145</td>\n",
       "    </tr>\n",
       "    <tr>\n",
       "      <th id=\"T_785a5_level0_row2\" class=\"row_heading level0 row2\" >married</th>\n",
       "      <td id=\"T_785a5_row2_col0\" class=\"data row2 col0\" >931</td>\n",
       "      <td id=\"T_785a5_row2_col1\" class=\"data row2 col1\" >7.545182</td>\n",
       "    </tr>\n",
       "    <tr>\n",
       "      <th id=\"T_785a5_level0_row3\" class=\"row_heading level0 row3\" >divorced</th>\n",
       "      <td id=\"T_785a5_row3_col0\" class=\"data row3 col0\" >85</td>\n",
       "      <td id=\"T_785a5_row3_col1\" class=\"data row3 col1\" >7.112971</td>\n",
       "    </tr>\n",
       "    <tr>\n",
       "      <th id=\"T_785a5_level0_row4\" class=\"row_heading level0 row4\" >widow / widower</th>\n",
       "      <td id=\"T_785a5_row4_col0\" class=\"data row4 col0\" >63</td>\n",
       "      <td id=\"T_785a5_row4_col1\" class=\"data row4 col1\" >6.569343</td>\n",
       "    </tr>\n",
       "  </tbody>\n",
       "</table>\n"
      ],
      "text/plain": [
       "<pandas.io.formats.style.Styler at 0x1b4dc9e54f0>"
      ]
     },
     "execution_count": 90,
     "metadata": {},
     "output_type": "execute_result"
    }
   ],
   "source": [
    "# Comprueba los datos del estado familiar y los pagos a tiempo\n",
    "\n",
    "# Total de clientes por estado familiar\n",
    "total_family_status = df['family_status'].value_counts()\n",
    "\n",
    "family_status_debt = df.groupby('family_status').agg({'debt': 'sum'})\n",
    "\n",
    "# Calcular la tasa de incumplimiento basada en el estado familiar\n",
    "family_status_debt['debt_%'] = (family_status_debt['debt'] / total_family_status)*100\n",
    "\n",
    "# ... ordenamos de mayor a menor\n",
    "family_status_debt.sort_values(by='debt_%', ascending=False, inplace=True)\n",
    "\n",
    "# ... mostremos\n",
    "family_status_debt.style.bar(color='#99EBB8')"
   ]
  },
  {
   "cell_type": "markdown",
   "metadata": {},
   "source": [
    "**Conclusión**\n",
    "\n",
    "Los clientes solteros tienen un mayor riesgo de incumplir sus pagos a tiempo, por lo contrario los viudos tienen menor riesgo de incumplir.\n",
    "\n",
    "Nivel de riesgo de incumplimiento:\n",
    "\n",
    "-  **Alto riesgo:** solteros y unión civil\n",
    "-  **Bajo riesgo:** viudos, divorciados y casados"
   ]
  },
  {
   "cell_type": "markdown",
   "metadata": {},
   "source": [
    "**¿Existe una correlación entre el nivel de ingresos y el pago a tiempo?**"
   ]
  },
  {
   "cell_type": "code",
   "execution_count": 91,
   "metadata": {
    "ExecuteTime": {
     "end_time": "2022-12-19T17:39:45.322101Z",
     "start_time": "2022-12-19T17:39:45.302826Z"
    }
   },
   "outputs": [
    {
     "data": {
      "text/html": [
       "<style type=\"text/css\">\n",
       "#T_4bf67_row0_col0 {\n",
       "  width: 10em;\n",
       "  background: linear-gradient(90deg, #99EBB8 45.1%, transparent 45.1%);\n",
       "}\n",
       "#T_4bf67_row0_col1, #T_4bf67_row1_col0 {\n",
       "  width: 10em;\n",
       "  background: linear-gradient(90deg, #99EBB8 100.0%, transparent 100.0%);\n",
       "}\n",
       "#T_4bf67_row1_col1 {\n",
       "  width: 10em;\n",
       "  background: linear-gradient(90deg, #99EBB8 99.3%, transparent 99.3%);\n",
       "}\n",
       "#T_4bf67_row2_col0 {\n",
       "  width: 10em;\n",
       "  background: linear-gradient(90deg, #99EBB8 42.9%, transparent 42.9%);\n",
       "}\n",
       "#T_4bf67_row2_col1 {\n",
       "  width: 10em;\n",
       "  background: linear-gradient(90deg, #99EBB8 92.8%, transparent 92.8%);\n",
       "}\n",
       "#T_4bf67_row3_col0 {\n",
       "  width: 10em;\n",
       "  background: linear-gradient(90deg, #99EBB8 62.8%, transparent 62.8%);\n",
       "}\n",
       "#T_4bf67_row3_col1 {\n",
       "  width: 10em;\n",
       "  background: linear-gradient(90deg, #99EBB8 85.8%, transparent 85.8%);\n",
       "}\n",
       "</style>\n",
       "<table id=\"T_4bf67\">\n",
       "  <thead>\n",
       "    <tr>\n",
       "      <th class=\"blank level0\" >&nbsp;</th>\n",
       "      <th id=\"T_4bf67_level0_col0\" class=\"col_heading level0 col0\" >debt</th>\n",
       "      <th id=\"T_4bf67_level0_col1\" class=\"col_heading level0 col1\" >debt_%</th>\n",
       "    </tr>\n",
       "    <tr>\n",
       "      <th class=\"index_name level0\" >income_group</th>\n",
       "      <th class=\"blank col0\" >&nbsp;</th>\n",
       "      <th class=\"blank col1\" >&nbsp;</th>\n",
       "    </tr>\n",
       "  </thead>\n",
       "  <tbody>\n",
       "    <tr>\n",
       "      <th id=\"T_4bf67_level0_row0\" class=\"row_heading level0 row0\" >15k - 20k</th>\n",
       "      <td id=\"T_4bf67_row0_col0\" class=\"data row0 col0\" >313</td>\n",
       "      <td id=\"T_4bf67_row0_col1\" class=\"data row0 col1\" >8.582396</td>\n",
       "    </tr>\n",
       "    <tr>\n",
       "      <th id=\"T_4bf67_level0_row1\" class=\"row_heading level0 row1\" >20k - 30k</th>\n",
       "      <td id=\"T_4bf67_row1_col0\" class=\"data row1 col0\" >694</td>\n",
       "      <td id=\"T_4bf67_row1_col1\" class=\"data row1 col1\" >8.520565</td>\n",
       "    </tr>\n",
       "    <tr>\n",
       "      <th id=\"T_4bf67_level0_row2\" class=\"row_heading level0 row2\" >less 15k</th>\n",
       "      <td id=\"T_4bf67_row2_col0\" class=\"data row2 col0\" >298</td>\n",
       "      <td id=\"T_4bf67_row2_col1\" class=\"data row2 col1\" >7.961528</td>\n",
       "    </tr>\n",
       "    <tr>\n",
       "      <th id=\"T_4bf67_level0_row3\" class=\"row_heading level0 row3\" >more 30k</th>\n",
       "      <td id=\"T_4bf67_row3_col0\" class=\"data row3 col0\" >436</td>\n",
       "      <td id=\"T_4bf67_row3_col1\" class=\"data row3 col1\" >7.366109</td>\n",
       "    </tr>\n",
       "  </tbody>\n",
       "</table>\n"
      ],
      "text/plain": [
       "<pandas.io.formats.style.Styler at 0x1b4dc77ef40>"
      ]
     },
     "execution_count": 91,
     "metadata": {},
     "output_type": "execute_result"
    }
   ],
   "source": [
    "# Comprueba los datos del nivel de ingresos y los pagos a tiempo\n",
    "\n",
    "# Total de clientes por niveles de ingresos\n",
    "total_income_group = df['income_group'].value_counts()\n",
    "\n",
    "# Comprueba los datos del nivel de ingresos y los pagos a tiempo\n",
    "income_debt = df.groupby('income_group').agg({'debt': 'sum'})\n",
    "\n",
    "# Calcular la tasa de incumplimiento basada en el nivel de ingresos\n",
    "income_debt['debt_%'] = (income_debt['debt'] / total_income_group)*100\n",
    "\n",
    "# ... ordenamos de mayor a menor\n",
    "income_debt.sort_values(by='debt_%', ascending=False, inplace=True)\n",
    "\n",
    "# ... mostremos\n",
    "income_debt.style.bar(color='#99EBB8')"
   ]
  },
  {
   "cell_type": "markdown",
   "metadata": {},
   "source": [
    "**Conclusión**\n",
    "\n",
    "Los clientes que perciben entre 15k a 20k salario mensual tienden a ser un poco más incumplidos de lo normal en el pagos a tiempo de sus préstamos, mientras que los que tienen salarios mensuales mayores a 30k tienen menor riesgo de incumplimiento.\n",
    "\n",
    "Nivel de riesgo de incumplimiento:\n",
    "\n",
    "-  **Alto riesgo:** clientes con rangos salariales mensuales de 15k-30k\n",
    "-  **Bajo riesgo:** clientes con rangos salariales menor a 15k, y mayor a 30k"
   ]
  },
  {
   "cell_type": "markdown",
   "metadata": {},
   "source": [
    "**¿Cómo afecta el propósito del crédito a la tasa de incumplimiento?**"
   ]
  },
  {
   "cell_type": "code",
   "execution_count": 92,
   "metadata": {
    "ExecuteTime": {
     "end_time": "2022-12-19T17:39:45.339742Z",
     "start_time": "2022-12-19T17:39:45.323098Z"
    }
   },
   "outputs": [
    {
     "data": {
      "text/html": [
       "<style type=\"text/css\">\n",
       "#T_1190b_row0_col0 {\n",
       "  width: 10em;\n",
       "  background: linear-gradient(90deg, #99EBB8 90.4%, transparent 90.4%);\n",
       "}\n",
       "#T_1190b_row0_col1, #T_1190b_row4_col0 {\n",
       "  width: 10em;\n",
       "  background: linear-gradient(90deg, #99EBB8 100.0%, transparent 100.0%);\n",
       "}\n",
       "#T_1190b_row1_col0 {\n",
       "  width: 10em;\n",
       "  background: linear-gradient(90deg, #99EBB8 83.0%, transparent 83.0%);\n",
       "}\n",
       "#T_1190b_row1_col1 {\n",
       "  width: 10em;\n",
       "  background: linear-gradient(90deg, #99EBB8 98.5%, transparent 98.5%);\n",
       "}\n",
       "#T_1190b_row2_col0 {\n",
       "  width: 10em;\n",
       "  background: linear-gradient(90deg, #99EBB8 41.7%, transparent 41.7%);\n",
       "}\n",
       "#T_1190b_row2_col1 {\n",
       "  width: 10em;\n",
       "  background: linear-gradient(90deg, #99EBB8 85.5%, transparent 85.5%);\n",
       "}\n",
       "#T_1190b_row3_col0 {\n",
       "  width: 10em;\n",
       "  background: linear-gradient(90deg, #99EBB8 75.3%, transparent 75.3%);\n",
       "}\n",
       "#T_1190b_row3_col1 {\n",
       "  width: 10em;\n",
       "  background: linear-gradient(90deg, #99EBB8 80.4%, transparent 80.4%);\n",
       "}\n",
       "#T_1190b_row4_col1 {\n",
       "  width: 10em;\n",
       "  background: linear-gradient(90deg, #99EBB8 75.1%, transparent 75.1%);\n",
       "}\n",
       "</style>\n",
       "<table id=\"T_1190b\">\n",
       "  <thead>\n",
       "    <tr>\n",
       "      <th class=\"blank level0\" >&nbsp;</th>\n",
       "      <th id=\"T_1190b_level0_col0\" class=\"col_heading level0 col0\" >debt</th>\n",
       "      <th id=\"T_1190b_level0_col1\" class=\"col_heading level0 col1\" >debt_%</th>\n",
       "    </tr>\n",
       "    <tr>\n",
       "      <th class=\"index_name level0\" >purpose_group</th>\n",
       "      <th class=\"blank col0\" >&nbsp;</th>\n",
       "      <th class=\"blank col1\" >&nbsp;</th>\n",
       "    </tr>\n",
       "  </thead>\n",
       "  <tbody>\n",
       "    <tr>\n",
       "      <th id=\"T_1190b_level0_row0\" class=\"row_heading level0 row0\" >car</th>\n",
       "      <td id=\"T_1190b_row0_col0\" class=\"data row0 col0\" >403</td>\n",
       "      <td id=\"T_1190b_row0_col1\" class=\"data row0 col1\" >9.359034</td>\n",
       "    </tr>\n",
       "    <tr>\n",
       "      <th id=\"T_1190b_level0_row1\" class=\"row_heading level0 row1\" >education</th>\n",
       "      <td id=\"T_1190b_row1_col0\" class=\"data row1 col0\" >370</td>\n",
       "      <td id=\"T_1190b_row1_col1\" class=\"data row1 col1\" >9.220035</td>\n",
       "    </tr>\n",
       "    <tr>\n",
       "      <th id=\"T_1190b_level0_row2\" class=\"row_heading level0 row2\" >wedding</th>\n",
       "      <td id=\"T_1190b_row2_col0\" class=\"data row2 col0\" >186</td>\n",
       "      <td id=\"T_1190b_row2_col1\" class=\"data row2 col1\" >8.003442</td>\n",
       "    </tr>\n",
       "    <tr>\n",
       "      <th id=\"T_1190b_level0_row3\" class=\"row_heading level0 row3\" >real estate</th>\n",
       "      <td id=\"T_1190b_row3_col0\" class=\"data row3 col0\" >336</td>\n",
       "      <td id=\"T_1190b_row3_col1\" class=\"data row3 col1\" >7.526882</td>\n",
       "    </tr>\n",
       "    <tr>\n",
       "      <th id=\"T_1190b_level0_row4\" class=\"row_heading level0 row4\" >house</th>\n",
       "      <td id=\"T_1190b_row4_col0\" class=\"data row4 col0\" >446</td>\n",
       "      <td id=\"T_1190b_row4_col1\" class=\"data row4 col1\" >7.026942</td>\n",
       "    </tr>\n",
       "  </tbody>\n",
       "</table>\n"
      ],
      "text/plain": [
       "<pandas.io.formats.style.Styler at 0x1b4dc77efd0>"
      ]
     },
     "execution_count": 92,
     "metadata": {},
     "output_type": "execute_result"
    }
   ],
   "source": [
    "# Total de clientes por propósito\n",
    "total_purpose_group = df['purpose_group'].value_counts()\n",
    "\n",
    "# Consulta los porcentajes de tasa de incumplimiento para cada propósito del crédito y analízalos\n",
    "purpose_debt = df.groupby('purpose_group').agg({'debt': 'sum'})\n",
    "\n",
    "# ... calculamos la tasa de incumplimientos de pagos por los clientes según su propósito\n",
    "purpose_debt['debt_%'] = (purpose_debt['debt'] / total_purpose_group)*100\n",
    "\n",
    "# ... ordenamos de mayor a menor\n",
    "purpose_debt.sort_values(by='debt_%', ascending=False, inplace=True)\n",
    "\n",
    "# ... mostremos\n",
    "purpose_debt.style.bar(color='#99EBB8')"
   ]
  },
  {
   "cell_type": "markdown",
   "metadata": {},
   "source": [
    "**Conclusión**\n",
    "\n",
    "Los clientes cuyo propósito del préstamo fue comprar un vehículo tienen el mayor riesgo de incumplir el pago a tiempo de su deuda, y los clientes cuyo proposito fue adquirir una casa tienen el menor riesgo de incumplimiento.\n",
    "\n",
    "Nivel de riesgo de incumplimiento:\n",
    "\n",
    "-  **Alto riesgo:** propósito carro y educación\n",
    "-  **Riesgo normal:** propósito boda\n",
    "-  **Bajo riesgo:** bienes raices y casa\n",
    "\n"
   ]
  },
  {
   "cell_type": "markdown",
   "metadata": {},
   "source": [
    "## Conclusión general<a name=\"id7\"></a>\n",
    "\n",
    "\n",
    "\n",
    "*Preprocesamiento de los datos:*\n",
    "\n",
    "Se realizaron diversas transformaciones de los datos. Corregimos escrituras de datos cambiando a minúsculas las categorías de educación. Se corrigieron datos problemáticos en número de hijos: -1 y 20 por 0. Se corrigieron valores negativos en la columna days_employed y se transformaron valores atípicamente grandes por NaN y posteriormente se realizó el tratamiento de NaN. Se corrigieron valores 0 de edad por 43 (la mediana). Se eliminaron 72 registros duplicados. El conjunto de datos total disminuyó de 21525 a 21454.\n",
    "\n",
    "\n",
    "Los valores ausentes de las columnas `days_employed` y `total_income` fueron imputados por medianas condicionadas puesto que los datos no tenían una distribución normal y era cambiante de acuerdo a otras características relacionadas a estas columnas. El relleno de los NaN se realizó así:\n",
    "\n",
    "        -  En days_employed con medianas condicionadas de acuerdo al nivel de educación.\n",
    "        -  En total_income con medianas condicionadas de acuerdo al grupos de edad.\n",
    "\n",
    "\n",
    "Se realizó categorización de datos para un mejor análisis, creando las columnas: age_group, purpose_group y income_group.\n",
    "   \n",
    " \n",
    " \n",
    "\n",
    "**¿Existe una correlación entre tener hijos y pagar a tiempo?**\n",
    "\n",
    "Los clientes que tienen 4 hijos representan un grupo riesgoso para el cumplimiento tiempo de sus préstamos. Por lo contrario, los clientes que no tienen hijos presentan el menor riesgo de incumplimiento. Los clientes que tienen 5 hijos no representan riesgos.\n",
    "\n",
    "\n",
    "\n",
    "**¿Existe una correlación entre la situación familiar y el pago a tiempo?**\n",
    "\n",
    "Los clientes solteros es un grupo riesgoso en el cumplimiento a tiempo, los viudos son un grupo menos riesgoso de lo normal.\n",
    "\n",
    "\n",
    "\n",
    "**¿Existe una correlación entre el nivel de ingresos y el pago a tiempo?**\n",
    "\n",
    "Los clientes que perciben entre 15k a 20k salario mensual tienden a ser un poco más incumplidos de lo normal en el pagos a tiempo de sus préstamos, mientras que los que tienen salarios mensuales mayores a 30k representa un grupo menos riesgoso respecto al resto de clientes.\n",
    "\n",
    "    \n",
    "\n",
    "**¿Cómo afecta el propósito del crédito a la tasa de incumplimiento?**\n",
    "\n",
    "Los clientes que prestaron dinero para adquirir un vehículo representan un grupo altamente riesgoso para cumplir el pago a tiempo de su deuda, y los clientes cuyo propósito fue adquirir una casa tienen el menor riesgo de incumplimiento.\n"
   ]
  }
 ],
 "metadata": {
  "ExecuteTimeLog": [
   {
    "duration": 2741,
    "start_time": "2021-10-21T01:08:49.480Z"
   },
   {
    "duration": 52,
    "start_time": "2021-10-21T01:08:53.315Z"
   },
   {
    "duration": 49,
    "start_time": "2021-10-21T01:08:57.432Z"
   },
   {
    "duration": 70,
    "start_time": "2021-10-21T01:09:07.706Z"
   }
  ],
  "hide_input": false,
  "kernelspec": {
   "display_name": "Python [conda env:env39]",
   "language": "python",
   "name": "conda-env-env39-py"
  },
  "language_info": {
   "codemirror_mode": {
    "name": "ipython",
    "version": 3
   },
   "file_extension": ".py",
   "mimetype": "text/x-python",
   "name": "python",
   "nbconvert_exporter": "python",
   "pygments_lexer": "ipython3",
   "version": "3.9.15"
  },
  "toc": {
   "base_numbering": 1,
   "nav_menu": {},
   "number_sections": true,
   "sideBar": true,
   "skip_h1_title": true,
   "title_cell": "Table of Contents",
   "title_sidebar": "Contents",
   "toc_cell": false,
   "toc_position": {
    "height": "calc(100% - 180px)",
    "left": "10px",
    "top": "150px",
    "width": "231.188px"
   },
   "toc_section_display": true,
   "toc_window_display": true
  },
  "vscode": {
   "interpreter": {
    "hash": "d8acedbd0dbe0ef603ed509b87f45f14acec3adee6d1fcd590fdbbdea64891c7"
   }
  }
 },
 "nbformat": 4,
 "nbformat_minor": 2
}
